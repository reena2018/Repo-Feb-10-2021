{
 "cells": [
  {
   "cell_type": "markdown",
   "metadata": {},
   "source": [
    "# Module 3 R Notebook\n",
    "# Finding Differentially Expressed Genes\n",
    "\n",
    "## Important note - read first\n",
    "\n",
    "In this course, you are not required to become proficient in writing R scripts for Big Biomedical Data Analytics. The assignments will be based on each module's template, and replacing some parts of them with new data and parameters so that you will get new results and interpret them. \n",
    "\n",
    "Understanding all the coding details in R will depend on your bakcground knowledge in programming concepts. \n",
    "\n",
    "Therefore if you do not understand all the coding details in R, try to run the code and understand mostly: \n",
    "\n",
    "1) what information do I have to provide to this script to make it work ?\n",
    "\n",
    "2) how to execute this script (it will always be: run the cell containing the script Cell --> Run cells, or click on SHIFT + ENTER at the same time, or simply click on the right arrow icon) ?\n",
    "\n",
    "3) what results do I get ?\n",
    "\n",
    "4) how to interpret the results ?\n",
    "\n",
    "Little by little, you will become familiar with R programming language and, example after example, you will understand the scripts and be ready for more advanced programming work. \n",
    "\n",
    "## Assignment goals\n",
    "\n",
    "In this notebook, you are going to practice selecting features with R scripts, and particularly differentially expressed genes. This implies selecting features representing genes expressed differently between two groups, such as a normal group and a disease group. \n",
    "\n",
    "One strategy would be to compare gene expressions between a group of patients and a standard normal individual or group of normal individuals. \n",
    "\n",
    "Here we are choosing a breast cancer dataset downloaded from Firehose (https://gdac.broadinstitute.org/). These are next generation sequncing data that are provided already normalized. \n",
    "\n",
    "So let us get started !\n",
    "\n",
    "## Preparing the environment\n",
    "\n",
    "Good news, we do not have to use external libraries for this analysis !\n"
   ]
  },
  {
   "cell_type": "markdown",
   "metadata": {},
   "source": [
    "## Loading the data\n",
    "\n",
    "The dataset we are loading is called  \"BRCA.rnaseqv2__illuminahiseq_rnaseqv2__unc_edu__Level_3__RSEM_genes_normalized__data.data.txt\". \n",
    "\n",
    "It looks like this: \n",
    "\n",
    "Hybridization REF TCGA.3C.AAAU.01A.11R.A41B.07 TCGA.3C.AALI.01A.11R.A41B.07 ...\n",
    "\n",
    "gene_id                normalized_count             normalized_count        ...                      \n",
    "\n",
    "?|100130426                 0.0000                       0.0000             ...        \n",
    "\n",
    "This dataset has genes as rows and patients as columns. Patient IDs refer to TCGA IDs such as TCGA.3C.AAAU.01A.11R.A41B.07, etc. The top two lines of the file are header information, and we direct 'read.table' to skip these two lines since we only want the gene expressions to be placed in a dataframe we call 'mrnaNorm'. \n",
    "The first column of 'mrnaNorm'  contains the list of genes measured.\n",
    "\n",
    "Since this is a large datset, you will have to wait until the '[*]' becomes a number in cell #1 to progress to the next cell."
   ]
  },
  {
   "cell_type": "code",
   "execution_count": 18,
   "metadata": {
    "collapsed": false
   },
   "outputs": [
    {
     "data": {
      "text/html": [
       "'data.frame'"
      ],
      "text/latex": [
       "'data.frame'"
      ],
      "text/markdown": [
       "'data.frame'"
      ],
      "text/plain": [
       "[1] \"data.frame\""
      ]
     },
     "execution_count": 18,
     "metadata": {},
     "output_type": "execute_result"
    }
   ],
   "source": [
    "# cell #1\n",
    "mrnaNorm <- read.table(\"/data/BRCA.rnaseqv2__illuminahiseq_rnaseqv2__unc_edu__Level_3__RSEM_genes_normalized__data.data.txt\", \n",
    "            header = F, fill = T, skip = 2)\n",
    "class(mrnaNorm)"
   ]
  },
  {
   "cell_type": "markdown",
   "metadata": {},
   "source": [
    "We also want the patient IDs in the first row, which is why we read only this first line and place it in a second dataframe callses 'mrnaIDs'. \n",
    "We also remove the first column with '[, -1]', the one entitled 'Hybridization REF', because it is not a patientID."
   ]
  },
  {
   "cell_type": "code",
   "execution_count": 3,
   "metadata": {
    "collapsed": false
   },
   "outputs": [
    {
     "data": {
      "text/html": [
       "'data.frame'"
      ],
      "text/latex": [
       "'data.frame'"
      ],
      "text/markdown": [
       "'data.frame'"
      ],
      "text/plain": [
       "[1] \"data.frame\""
      ]
     },
     "execution_count": 3,
     "metadata": {},
     "output_type": "execute_result"
    },
    {
     "data": {
      "text/html": [
       "<ol class=list-inline>\n",
       "\t<li>1</li>\n",
       "\t<li>1214</li>\n",
       "</ol>\n"
      ],
      "text/latex": [
       "\\begin{enumerate*}\n",
       "\\item 1\n",
       "\\item 1214\n",
       "\\end{enumerate*}\n"
      ],
      "text/markdown": [
       "1. 1\n",
       "2. 1214\n",
       "\n",
       "\n"
      ],
      "text/plain": [
       "[1]    1 1214"
      ]
     },
     "execution_count": 3,
     "metadata": {},
     "output_type": "execute_result"
    },
    {
     "data": {
      "text/html": [
       "<ol class=list-inline>\n",
       "\t<li>1</li>\n",
       "\t<li>1212</li>\n",
       "</ol>\n"
      ],
      "text/latex": [
       "\\begin{enumerate*}\n",
       "\\item 1\n",
       "\\item 1212\n",
       "\\end{enumerate*}\n"
      ],
      "text/markdown": [
       "1. 1\n",
       "2. 1212\n",
       "\n",
       "\n"
      ],
      "text/plain": [
       "[1]    1 1212"
      ]
     },
     "execution_count": 3,
     "metadata": {},
     "output_type": "execute_result"
    }
   ],
   "source": [
    "# cell #2\n",
    "mrnaIDs <- read.table(\"/data/BRCA.rnaseqv2__illuminahiseq_rnaseqv2__unc_edu__Level_3__RSEM_genes_normalized__data.data.txt\", \n",
    "            header = F, fill = T, nrows = 1)\n",
    "class(mrnaIDs)\n",
    "dim(mrnaIDs)\n",
    "mrnaIDs <- mrnaIDs[, -1][, -1]  # remove the first solumn \"Hybridization REF\" which spans two columns because of the space between the two words\n",
    "dim(mrnaIDs)"
   ]
  },
  {
   "cell_type": "markdown",
   "metadata": {},
   "source": [
    "## Data preprocessing\n",
    "\n",
    "Next we take a look at our data. Since this is a very large dataset, we are not going to display all the rows and columns, but only the first 5 rows and columns.\n",
    "'mrnaNorm' contains 20,531 rows, representing the genes and their expressions, and 1213 columns (1212 subjects and the first column containing gene names)."
   ]
  },
  {
   "cell_type": "code",
   "execution_count": 4,
   "metadata": {
    "collapsed": false,
    "scrolled": true
   },
   "outputs": [
    {
     "ename": "ERROR",
     "evalue": "Error in eval(expr, envir, enclos): object 'mrnaNorm' not found\n",
     "output_type": "error",
     "traceback": [
      "Error in eval(expr, envir, enclos): object 'mrnaNorm' not found\n"
     ]
    },
    {
     "data": {
      "text/html": [
       "<ol class=list-inline>\n",
       "\t<li>1</li>\n",
       "\t<li>1212</li>\n",
       "</ol>\n"
      ],
      "text/latex": [
       "\\begin{enumerate*}\n",
       "\\item 1\n",
       "\\item 1212\n",
       "\\end{enumerate*}\n"
      ],
      "text/markdown": [
       "1. 1\n",
       "2. 1212\n",
       "\n",
       "\n"
      ],
      "text/plain": [
       "[1]    1 1212"
      ]
     },
     "execution_count": 4,
     "metadata": {},
     "output_type": "execute_result"
    },
    {
     "ename": "ERROR",
     "evalue": "Error in eval(expr, envir, enclos): object 'mrnaNorm' not found\n",
     "output_type": "error",
     "traceback": [
      "Error in eval(expr, envir, enclos): object 'mrnaNorm' not found\n"
     ]
    },
    {
     "data": {
      "text/html": [
       "<table>\n",
       "<thead><tr><th></th><th scope=col>V3</th><th scope=col>V4</th><th scope=col>V5</th><th scope=col>V6</th><th scope=col>V7</th></tr></thead>\n",
       "<tbody>\n",
       "\t<tr><th scope=row>1</th><td>TCGA-3C-AAAU-01A-11R-A41B-07</td><td>TCGA-3C-AALI-01A-11R-A41B-07</td><td>TCGA-3C-AALJ-01A-31R-A41B-07</td><td>TCGA-3C-AALK-01A-11R-A41B-07</td><td>TCGA-4H-AAAK-01A-12R-A41B-07</td></tr>\n",
       "</tbody>\n",
       "</table>\n"
      ],
      "text/latex": [
       "\\begin{tabular}{r|lllll}\n",
       "  & V3 & V4 & V5 & V6 & V7\\\\\n",
       "\\hline\n",
       "\t1 & TCGA-3C-AAAU-01A-11R-A41B-07 & TCGA-3C-AALI-01A-11R-A41B-07 & TCGA-3C-AALJ-01A-31R-A41B-07 & TCGA-3C-AALK-01A-11R-A41B-07 & TCGA-4H-AAAK-01A-12R-A41B-07\\\\\n",
       "\\end{tabular}\n"
      ],
      "text/plain": [
       "                            V3                           V4\n",
       "1 TCGA-3C-AAAU-01A-11R-A41B-07 TCGA-3C-AALI-01A-11R-A41B-07\n",
       "                            V5                           V6\n",
       "1 TCGA-3C-AALJ-01A-31R-A41B-07 TCGA-3C-AALK-01A-11R-A41B-07\n",
       "                            V7\n",
       "1 TCGA-4H-AAAK-01A-12R-A41B-07"
      ]
     },
     "execution_count": 4,
     "metadata": {},
     "output_type": "execute_result"
    },
    {
     "ename": "ERROR",
     "evalue": "Error in head(mrnaNorm, 2): object 'mrnaNorm' not found\n",
     "output_type": "error",
     "traceback": [
      "Error in head(mrnaNorm, 2): object 'mrnaNorm' not found\n"
     ]
    },
    {
     "ename": "ERROR",
     "evalue": "Error in summary(mrnaNorm5x5): object 'mrnaNorm5x5' not found\n",
     "output_type": "error",
     "traceback": [
      "Error in summary(mrnaNorm5x5): object 'mrnaNorm5x5' not found\n"
     ]
    }
   ],
   "source": [
    "# cell #3\n",
    "dim(mrnaNorm)\n",
    "dim(mrnaIDs)\n",
    "mrnaIDs5 = mrnaIDs[,c(1,2,3,4,5)] # extract first 5 patientIDs\n",
    "mrnaNorm5x5 = mrnaNorm[1:5, 1:5] # first 5 rows and columns \n",
    "head(mrnaIDs5, 2) # display first two rows\n",
    "head(mrnaNorm, 2) # display first two rows\n",
    "summary(mrnaNorm5x5) # summary statistics"
   ]
  },
  {
   "cell_type": "markdown",
   "metadata": {},
   "source": [
    "The following instruction analyzes the patient IDs because the IDs can tell us whether a particular column is from a normal sample or a tumor sample. \n",
    "TCGA has data both from tumor samples and from normal samples taken from the same patient. This information can be found in the label of the column. For example in ID:\n",
    "TCGA.3C.AAAU.01A.11R.A41B.07 \n",
    "the type of sample is indicated in the 4th group: 01A.\n",
    "Tumor types range from 01 - 09, normal types from 10 - 19 and control samples from 20 - 29.\n",
    "Therefore we are extracting in the cell below this code indicating whether the sample is from normal or not. \n",
    "This group is the fourth in the ID character string, obtained with 'strsplit', and we get the two characters of interest by taking the first two characters with 'substr'.\n",
    "We do this for all the IDs by applying with 'lapply' the same process to all the IDs in 'mrnaIDs'."
   ]
  },
  {
   "cell_type": "code",
   "execution_count": 5,
   "metadata": {
    "collapsed": false
   },
   "outputs": [
    {
     "data": {
      "text/html": [
       "<ol class=list-inline>\n",
       "\t<li>1</li>\n",
       "\t<li>1212</li>\n",
       "</ol>\n"
      ],
      "text/latex": [
       "\\begin{enumerate*}\n",
       "\\item 1\n",
       "\\item 1212\n",
       "\\end{enumerate*}\n"
      ],
      "text/markdown": [
       "1. 1\n",
       "2. 1212\n",
       "\n",
       "\n"
      ],
      "text/plain": [
       "[1]    1 1212"
      ]
     },
     "execution_count": 5,
     "metadata": {},
     "output_type": "execute_result"
    }
   ],
   "source": [
    "# cell #4\n",
    "samp <- lapply(as.list(t(mrnaIDs)), function(t) substr(unlist(strsplit(t, \"-\"))[4], 1, 2))\n",
    "# extract the sample type (tumor / normal), excluding the first column since it is a gene ID\n",
    "sampleType <- as.data.frame(samp)\n",
    "dim(sampleType)\n",
    "# 1 1212"
   ]
  },
  {
   "cell_type": "markdown",
   "metadata": {},
   "source": [
    "Next we are going to count how many normals and how many tumor samples we have. \n",
    "The function 'unique' gives us the different types we have. \n",
    "The function 'table' calculates how many samples we have of each type. We see that we have 1100 of type '01' or '06' for tumor, and 112 of type '11' for normal."
   ]
  },
  {
   "cell_type": "code",
   "execution_count": 6,
   "metadata": {
    "collapsed": false
   },
   "outputs": [
    {
     "data": {
      "text/html": [
       "<table>\n",
       "<thead><tr><th></th><th scope=col>X.01.</th><th scope=col>X.01..1</th><th scope=col>X.01..2</th><th scope=col>X.01..3</th><th scope=col>X.01..4</th><th scope=col>X.01..5</th><th scope=col>X.01..6</th><th scope=col>X.01..7</th><th scope=col>X.01..8</th><th scope=col>X.01..9</th><th scope=col>X.01..10</th><th scope=col>X.01..11</th><th scope=col>X.01..12</th><th scope=col>X.01..13</th><th scope=col>X.01..14</th><th scope=col>X.01..15</th><th scope=col>X.01..16</th><th scope=col>X.01..17</th><th scope=col>X.01..18</th><th scope=col>X.01..19</th><th scope=col>X.01..20</th><th scope=col>X.01..21</th><th scope=col>X.01..22</th><th scope=col>X.01..23</th><th scope=col>X.01..24</th><th scope=col>X.01..25</th><th scope=col>X.01..26</th><th scope=col>X.01..27</th><th scope=col>X.01..28</th><th scope=col>X.01..29</th><th scope=col>X.01..30</th><th scope=col>X.01..31</th><th scope=col>X.01..32</th><th scope=col>X.01..33</th><th scope=col>X.01..34</th><th scope=col>X.01..35</th><th scope=col>X.01..36</th><th scope=col>X.01..37</th><th scope=col>X.01..38</th><th scope=col>X.01..39</th><th scope=col>X.01..40</th><th scope=col>X.01..41</th><th scope=col>X.01..42</th><th scope=col>X.01..43</th><th scope=col>X.01..44</th><th scope=col>X.01..45</th><th scope=col>X.01..46</th><th scope=col>X.01..47</th><th scope=col>X.01..48</th><th scope=col>X.01..49</th><th scope=col>X.01..50</th><th scope=col>X.01..51</th><th scope=col>X.01..52</th><th scope=col>X.01..53</th><th scope=col>X.01..54</th><th scope=col>X.01..55</th><th scope=col>X.01..56</th><th scope=col>X.01..57</th><th scope=col>X.01..58</th><th scope=col>X.01..59</th><th scope=col>X.01..60</th><th scope=col>X.01..61</th><th scope=col>X.01..62</th><th scope=col>X.01..63</th><th scope=col>X.01..64</th><th scope=col>X.01..65</th><th scope=col>X.01..66</th><th scope=col>X.01..67</th><th scope=col>X.01..68</th><th scope=col>X.01..69</th><th scope=col>X.01..70</th><th scope=col>X.01..71</th><th scope=col>X.01..72</th><th scope=col>X.01..73</th><th scope=col>X.01..74</th><th scope=col>X.01..75</th><th scope=col>X.01..76</th><th scope=col>X.01..77</th><th scope=col>X.01..78</th><th scope=col>X.01..79</th><th scope=col>X.01..80</th><th scope=col>X.01..81</th><th scope=col>X.01..82</th><th scope=col>X.01..83</th><th scope=col>X.01..84</th><th scope=col>X.01..85</th><th scope=col>X.01..86</th><th scope=col>X.01..87</th><th scope=col>X.01..88</th><th scope=col>X.01..89</th><th scope=col>X.01..90</th><th scope=col>X.01..91</th><th scope=col>X.01..92</th><th scope=col>X.01..93</th><th scope=col>X.01..94</th><th scope=col>X.01..95</th><th scope=col>X.01..96</th><th scope=col>X.01..97</th><th scope=col>X.01..98</th><th scope=col>X.01..99</th><th scope=col>X.01..100</th><th scope=col>X.01..101</th><th scope=col>X.01..102</th><th scope=col>X.01..103</th><th scope=col>X.01..104</th><th scope=col>X.01..105</th><th scope=col>X.01..106</th><th scope=col>X.01..107</th><th scope=col>X.01..108</th><th scope=col>X.01..109</th><th scope=col>X.01..110</th><th scope=col>X.01..111</th><th scope=col>X.01..112</th><th scope=col>X.01..113</th><th scope=col>X.01..114</th><th scope=col>X.01..115</th><th scope=col>X.01..116</th><th scope=col>X.01..117</th><th scope=col>X.01..118</th><th scope=col>X.01..119</th><th scope=col>X.01..120</th><th scope=col>X.01..121</th><th scope=col>X.01..122</th><th scope=col>X.01..123</th><th scope=col>X.01..124</th><th scope=col>X.11.</th><th scope=col>X.01..125</th><th scope=col>X.01..126</th><th scope=col>X.11..1</th><th scope=col>X.01..127</th><th scope=col>X.01..128</th><th scope=col>X.11..2</th><th scope=col>X.01..129</th><th scope=col>X.01..130</th><th scope=col>X.11..3</th><th scope=col>X.01..131</th><th scope=col>X.01..132</th><th scope=col>X.11..4</th><th scope=col>X.01..133</th><th scope=col>X.11..5</th><th scope=col>X.01..134</th><th scope=col>X.11..6</th><th scope=col>X.01..135</th><th scope=col>X.01..136</th><th scope=col>X.01..137</th><th scope=col>X.01..138</th><th scope=col>X.01..139</th><th scope=col>X.01..140</th><th scope=col>X.01..141</th><th scope=col>X.01..142</th><th scope=col>X.01..143</th><th scope=col>X.01..144</th><th scope=col>X.01..145</th><th scope=col>X.01..146</th><th scope=col>X.01..147</th><th scope=col>X.01..148</th><th scope=col>X.01..149</th><th scope=col>X.01..150</th><th scope=col>X.01..151</th><th scope=col>X.01..152</th><th scope=col>X.01..153</th><th scope=col>X.01..154</th><th scope=col>X.01..155</th><th scope=col>X.01..156</th><th scope=col>X.01..157</th><th scope=col>X.01..158</th><th scope=col>X.01..159</th><th scope=col>X.01..160</th><th scope=col>X.01..161</th><th scope=col>X.01..162</th><th scope=col>X.01..163</th><th scope=col>X.01..164</th><th scope=col>X.01..165</th><th scope=col>X.01..166</th><th scope=col>X.01..167</th><th scope=col>X.01..168</th><th scope=col>X.01..169</th><th scope=col>X.01..170</th><th scope=col>X.01..171</th><th scope=col>X.01..172</th><th scope=col>X.01..173</th><th scope=col>X.01..174</th><th scope=col>X.01..175</th><th scope=col>X.01..176</th><th scope=col>X.01..177</th><th scope=col>X.01..178</th><th scope=col>X.01..179</th><th scope=col>X.01..180</th><th scope=col>X.01..181</th><th scope=col>X.01..182</th><th scope=col>X.01..183</th><th scope=col>X.01..184</th><th scope=col>X.01..185</th><th scope=col>X.01..186</th><th scope=col>X.01..187</th><th scope=col>X.01..188</th><th scope=col>X.01..189</th><th scope=col>X.01..190</th><th scope=col>X.01..191</th><th scope=col>X.01..192</th><th scope=col>X.01..193</th><th scope=col>X.01..194</th><th scope=col>X.01..195</th><th scope=col>X.01..196</th><th scope=col>X.01..197</th><th scope=col>X.01..198</th><th scope=col>X.01..199</th><th scope=col>X.01..200</th><th scope=col>X.01..201</th><th scope=col>X.01..202</th><th scope=col>X.01..203</th><th scope=col>X.01..204</th><th scope=col>X.01..205</th><th scope=col>X.01..206</th><th scope=col>X.01..207</th><th scope=col>X.01..208</th><th scope=col>X.01..209</th><th scope=col>X.01..210</th><th scope=col>X.01..211</th><th scope=col>X.01..212</th><th scope=col>X.01..213</th><th scope=col>X.01..214</th><th scope=col>X.01..215</th><th scope=col>X.01..216</th><th scope=col>X.01..217</th><th scope=col>X.01..218</th><th scope=col>X.01..219</th><th scope=col>X.01..220</th><th scope=col>X.01..221</th><th scope=col>X.01..222</th><th scope=col>X.01..223</th><th scope=col>X.01..224</th><th scope=col>X.01..225</th><th scope=col>X.01..226</th><th scope=col>X.01..227</th><th scope=col>X.01..228</th><th scope=col>X.01..229</th><th scope=col>X.01..230</th><th scope=col>X.01..231</th><th scope=col>X.01..232</th><th scope=col>X.01..233</th><th scope=col>X.01..234</th><th scope=col>X.01..235</th><th scope=col>X.01..236</th><th scope=col>X.01..237</th><th scope=col>X.01..238</th><th scope=col>X.01..239</th><th scope=col>X.01..240</th><th scope=col>X.01..241</th><th scope=col>X.01..242</th><th scope=col>X.01..243</th><th scope=col>X.01..244</th><th scope=col>X.01..245</th><th scope=col>X.01..246</th><th scope=col>X.01..247</th><th scope=col>X.01..248</th><th scope=col>X.01..249</th><th scope=col>X.01..250</th><th scope=col>X.01..251</th><th scope=col>X.11..7</th><th scope=col>X.01..252</th><th scope=col>X.01..253</th><th scope=col>X.01..254</th><th scope=col>X.01..255</th><th scope=col>X.11..8</th><th scope=col>X.01..256</th><th scope=col>X.01..257</th><th scope=col>X.11..9</th><th scope=col>X.01..258</th><th scope=col>X.01..259</th><th scope=col>X.01..260</th><th scope=col>X.11..10</th><th scope=col>X.01..261</th><th scope=col>X.01..262</th><th scope=col>X.01..263</th><th scope=col>X.01..264</th><th scope=col>X.01..265</th><th scope=col>X.01..266</th><th scope=col>X.01..267</th><th scope=col>X.01..268</th><th scope=col>X.01..269</th><th scope=col>X.01..270</th><th scope=col>X.01..271</th><th scope=col>X.01..272</th><th scope=col>X.01..273</th><th scope=col>X.01..274</th><th scope=col>X.01..275</th><th scope=col>X.01..276</th><th scope=col>X.01..277</th><th scope=col>X.01..278</th><th scope=col>X.01..279</th><th scope=col>X.01..280</th><th scope=col>X.01..281</th><th scope=col>X.01..282</th><th scope=col>X.01..283</th><th scope=col>X.01..284</th><th scope=col>X.01..285</th><th scope=col>X.01..286</th><th scope=col>X.01..287</th><th scope=col>X.06.</th><th scope=col>X.01..288</th><th scope=col>X.01..289</th><th scope=col>X.01..290</th><th scope=col>X.01..291</th><th scope=col>X.01..292</th><th scope=col>X.01..293</th><th scope=col>X.01..294</th><th scope=col>X.01..295</th><th scope=col>X.01..296</th><th scope=col>X.01..297</th><th scope=col>X.01..298</th><th scope=col>X.01..299</th><th scope=col>X.01..300</th><th scope=col>X.01..301</th><th scope=col>X.01..302</th><th scope=col>X.01..303</th><th scope=col>X.01..304</th><th scope=col>X.01..305</th><th scope=col>X.01..306</th><th scope=col>X.01..307</th><th scope=col>X.01..308</th><th scope=col>X.01..309</th><th scope=col>X.01..310</th><th scope=col>X.01..311</th><th scope=col>X.01..312</th><th scope=col>X.01..313</th><th scope=col>X.01..314</th><th scope=col>X.01..315</th><th scope=col>X.01..316</th><th scope=col>X.01..317</th><th scope=col>X.01..318</th><th scope=col>X.01..319</th><th scope=col>X.01..320</th><th scope=col>X.01..321</th><th scope=col>X.01..322</th><th scope=col>X.01..323</th><th scope=col>X.01..324</th><th scope=col>X.01..325</th><th scope=col>X.01..326</th><th scope=col>X.01..327</th><th scope=col>X.01..328</th><th scope=col>X.01..329</th><th scope=col>X.01..330</th><th scope=col>X.01..331</th><th scope=col>X.01..332</th><th scope=col>X.01..333</th><th scope=col>X.01..334</th><th scope=col>X.01..335</th><th scope=col>X.01..336</th><th scope=col>X.01..337</th><th scope=col>X.01..338</th><th scope=col>X.01..339</th><th scope=col>X.01..340</th><th scope=col>X.01..341</th><th scope=col>X.01..342</th><th scope=col>X.01..343</th><th scope=col>X.01..344</th><th scope=col>X.01..345</th><th scope=col>X.01..346</th><th scope=col>X.01..347</th><th scope=col>X.01..348</th><th scope=col>X.01..349</th><th scope=col>X.01..350</th><th scope=col>X.01..351</th><th scope=col>X.01..352</th><th scope=col>X.01..353</th><th scope=col>X.01..354</th><th scope=col>X.01..355</th><th scope=col>X.01..356</th><th scope=col>X.01..357</th><th scope=col>X.01..358</th><th scope=col>X.01..359</th><th scope=col>X.01..360</th><th scope=col>X.01..361</th><th scope=col>X.01..362</th><th scope=col>X.01..363</th><th scope=col>X.01..364</th><th scope=col>X.01..365</th><th scope=col>X.01..366</th><th scope=col>X.01..367</th><th scope=col>X.01..368</th><th scope=col>X.01..369</th><th scope=col>X.01..370</th><th scope=col>X.01..371</th><th scope=col>X.01..372</th><th scope=col>X.01..373</th><th scope=col>X.01..374</th><th scope=col>X.01..375</th><th scope=col>X.01..376</th><th scope=col>X.01..377</th><th scope=col>X.01..378</th><th scope=col>X.01..379</th><th scope=col>X.01..380</th><th scope=col>X.01..381</th><th scope=col>X.01..382</th><th scope=col>X.01..383</th><th scope=col>X.01..384</th><th scope=col>X.01..385</th><th scope=col>X.01..386</th><th scope=col>X.01..387</th><th scope=col>X.01..388</th><th scope=col>X.01..389</th><th scope=col>X.01..390</th><th scope=col>X.01..391</th><th scope=col>X.01..392</th><th scope=col>X.01..393</th><th scope=col>X.01..394</th><th scope=col>X.01..395</th><th scope=col>X.01..396</th><th scope=col>X.01..397</th><th scope=col>X.01..398</th><th scope=col>X.01..399</th><th scope=col>X.01..400</th><th scope=col>X.01..401</th><th scope=col>X.01..402</th><th scope=col>X.01..403</th><th scope=col>X.01..404</th><th scope=col>X.01..405</th><th scope=col>X.01..406</th><th scope=col>X.01..407</th><th scope=col>X.01..408</th><th scope=col>X.01..409</th><th scope=col>X.01..410</th><th scope=col>X.01..411</th><th scope=col>X.01..412</th><th scope=col>X.01..413</th><th scope=col>X.01..414</th><th scope=col>X.01..415</th><th scope=col>X.01..416</th><th scope=col>X.01..417</th><th scope=col>X.01..418</th><th scope=col>X.01..419</th><th scope=col>X.01..420</th><th scope=col>X.01..421</th><th scope=col>X.01..422</th><th scope=col>X.01..423</th><th scope=col>X.01..424</th><th scope=col>X.01..425</th><th scope=col>X.01..426</th><th scope=col>X.01..427</th><th scope=col>X.01..428</th><th scope=col>X.01..429</th><th scope=col>X.01..430</th><th scope=col>X.01..431</th><th scope=col>X.01..432</th><th scope=col>X.01..433</th><th scope=col>X.01..434</th><th scope=col>X.01..435</th><th scope=col>X.01..436</th><th scope=col>X.01..437</th><th scope=col>X.01..438</th><th scope=col>X.01..439</th><th scope=col>X.01..440</th><th scope=col>X.01..441</th><th scope=col>X.01..442</th><th scope=col>X.01..443</th><th scope=col>X.01..444</th><th scope=col>X.01..445</th><th scope=col>X.01..446</th><th scope=col>X.01..447</th><th scope=col>X.01..448</th><th scope=col>X.01..449</th><th scope=col>X.01..450</th><th scope=col>X.01..451</th><th scope=col>X.01..452</th><th scope=col>X.01..453</th><th scope=col>X.01..454</th><th scope=col>X.01..455</th><th scope=col>X.01..456</th><th scope=col>X.01..457</th><th scope=col>X.01..458</th><th scope=col>X.01..459</th><th scope=col>X.01..460</th><th scope=col>X.01..461</th><th scope=col>X.01..462</th><th scope=col>X.01..463</th><th scope=col>X.01..464</th><th scope=col>X.01..465</th><th scope=col>X.01..466</th><th scope=col>X.01..467</th><th scope=col>X.01..468</th><th scope=col>X.01..469</th><th scope=col>X.01..470</th><th scope=col>X.01..471</th><th scope=col>X.01..472</th><th scope=col>X.01..473</th><th scope=col>X.01..474</th><th scope=col>X.01..475</th><th scope=col>X.01..476</th><th scope=col>X.01..477</th><th scope=col>X.01..478</th><th scope=col>X.01..479</th><th scope=col>X.01..480</th><th scope=col>X.01..481</th><th scope=col>X.01..482</th><th scope=col>X.01..483</th><th scope=col>X.01..484</th><th scope=col>X.01..485</th><th scope=col>X.01..486</th><th scope=col>X.01..487</th><th scope=col>X.01..488</th><th scope=col>X.01..489</th><th scope=col>X.01..490</th><th scope=col>X.01..491</th><th scope=col>X.01..492</th><th scope=col>X.01..493</th><th scope=col>X.01..494</th><th scope=col>X.01..495</th><th scope=col>X.01..496</th><th scope=col>X.01..497</th><th scope=col>X.01..498</th><th scope=col>X.01..499</th><th scope=col>X.01..500</th><th scope=col>X.01..501</th><th scope=col>X.01..502</th><th scope=col>X.01..503</th><th scope=col>X.01..504</th><th scope=col>X.01..505</th><th scope=col>X.01..506</th><th scope=col>X.01..507</th><th scope=col>X.01..508</th><th scope=col>X.01..509</th><th scope=col>X.01..510</th><th scope=col>X.01..511</th><th scope=col>X.01..512</th><th scope=col>X.01..513</th><th scope=col>X.01..514</th><th scope=col>X.01..515</th><th scope=col>X.01..516</th><th scope=col>X.01..517</th><th scope=col>X.11..11</th><th scope=col>X.01..518</th><th scope=col>X.01..519</th><th scope=col>X.01..520</th><th scope=col>X.11..12</th><th scope=col>X.01..521</th><th scope=col>X.11..13</th><th scope=col>X.01..522</th><th scope=col>X.01..523</th><th scope=col>X.01..524</th><th scope=col>X.11..14</th><th scope=col>X.01..525</th><th scope=col>X.01..526</th><th scope=col>X.11..15</th><th scope=col>X.01..527</th><th scope=col>X.01..528</th><th scope=col>X.11..16</th><th scope=col>X.01..529</th><th scope=col>X.11..17</th><th scope=col>X.01..530</th><th scope=col>X.01..531</th><th scope=col>X.11..18</th><th scope=col>X.01..532</th><th scope=col>X.11..19</th><th scope=col>X.01..533</th><th scope=col>X.01..534</th><th scope=col>X.01..535</th><th scope=col>X.01..536</th><th scope=col>X.11..20</th><th scope=col>X.01..537</th><th scope=col>X.01..538</th><th scope=col>X.11..21</th><th scope=col>X.01..539</th><th scope=col>X.01..540</th><th scope=col>X.01..541</th><th scope=col>X.11..22</th><th scope=col>X.01..542</th><th scope=col>X.01..543</th><th scope=col>X.11..23</th><th scope=col>X.01..544</th><th scope=col>X.11..24</th><th scope=col>X.01..545</th><th scope=col>X.11..25</th><th scope=col>X.01..546</th><th scope=col>X.11..26</th><th scope=col>X.01..547</th><th scope=col>X.11..27</th><th scope=col>X.01..548</th><th scope=col>X.11..28</th><th scope=col>X.01..549</th><th scope=col>X.01..550</th><th scope=col>X.11..29</th><th scope=col>X.01..551</th><th scope=col>X.01..552</th><th scope=col>X.11..30</th><th scope=col>X.01..553</th><th scope=col>X.01..554</th><th scope=col>X.11..31</th><th scope=col>X.01..555</th><th scope=col>X.11..32</th><th scope=col>X.01..556</th><th scope=col>X.01..557</th><th scope=col>X.11..33</th><th scope=col>X.01..558</th><th scope=col>X.11..34</th><th scope=col>X.01..559</th><th scope=col>X.11..35</th><th scope=col>X.01..560</th><th scope=col>X.11..36</th><th scope=col>X.01..561</th><th scope=col>X.11..37</th><th scope=col>X.01..562</th><th scope=col>X.01..563</th><th scope=col>X.11..38</th><th scope=col>X.01..564</th><th scope=col>X.11..39</th><th scope=col>X.01..565</th><th scope=col>X.01..566</th><th scope=col>X.11..40</th><th scope=col>X.01..567</th><th scope=col>X.11..41</th><th scope=col>X.01..568</th><th scope=col>X.11..42</th><th scope=col>X.01..569</th><th scope=col>X.01..570</th><th scope=col>X.01..571</th><th scope=col>X.01..572</th><th scope=col>X.01..573</th><th scope=col>X.01..574</th><th scope=col>X.01..575</th><th scope=col>X.01..576</th><th scope=col>X.01..577</th><th scope=col>X.01..578</th><th scope=col>X.01..579</th><th scope=col>X.01..580</th><th scope=col>X.01..581</th><th scope=col>X.11..43</th><th scope=col>X.01..582</th><th scope=col>X.01..583</th><th scope=col>X.11..44</th><th scope=col>X.01..584</th><th scope=col>X.11..45</th><th scope=col>X.01..585</th><th scope=col>X.11..46</th><th scope=col>X.01..586</th><th scope=col>X.01..587</th><th scope=col>X.01..588</th><th scope=col>X.01..589</th><th scope=col>X.11..47</th><th scope=col>X.01..590</th><th scope=col>X.01..591</th><th scope=col>X.01..592</th><th scope=col>X.01..593</th><th scope=col>X.01..594</th><th scope=col>X.01..595</th><th scope=col>X.01..596</th><th scope=col>X.01..597</th><th scope=col>X.01..598</th><th scope=col>X.01..599</th><th scope=col>X.01..600</th><th scope=col>X.01..601</th><th scope=col>X.01..602</th><th scope=col>X.01..603</th><th scope=col>X.01..604</th><th scope=col>X.01..605</th><th scope=col>X.01..606</th><th scope=col>X.01..607</th><th scope=col>X.01..608</th><th scope=col>X.01..609</th><th scope=col>X.11..48</th><th scope=col>X.01..610</th><th scope=col>X.11..49</th><th scope=col>X.01..611</th><th scope=col>X.11..50</th><th scope=col>X.01..612</th><th scope=col>X.11..51</th><th scope=col>X.01..613</th><th scope=col>X.11..52</th><th scope=col>X.01..614</th><th scope=col>X.11..53</th><th scope=col>X.01..615</th><th scope=col>X.11..54</th><th scope=col>X.01..616</th><th scope=col>X.11..55</th><th scope=col>X.01..617</th><th scope=col>X.11..56</th><th scope=col>X.01..618</th><th scope=col>X.01..619</th><th scope=col>X.11..57</th><th scope=col>X.01..620</th><th scope=col>X.11..58</th><th scope=col>X.06..1</th><th scope=col>X.01..621</th><th scope=col>X.11..59</th><th scope=col>X.01..622</th><th scope=col>X.11..60</th><th scope=col>X.01..623</th><th scope=col>X.06..2</th><th scope=col>X.01..624</th><th scope=col>X.11..61</th><th scope=col>X.01..625</th><th scope=col>X.11..62</th><th scope=col>X.01..626</th><th scope=col>X.11..63</th><th scope=col>X.01..627</th><th scope=col>X.11..64</th><th scope=col>X.01..628</th><th scope=col>X.01..629</th><th scope=col>X.01..630</th><th scope=col>X.11..65</th><th scope=col>X.01..631</th><th scope=col>X.11..66</th><th scope=col>X.01..632</th><th scope=col>X.01..633</th><th scope=col>X.11..67</th><th scope=col>X.01..634</th><th scope=col>X.11..68</th><th scope=col>X.01..635</th><th scope=col>X.11..69</th><th scope=col>X.01..636</th><th scope=col>X.11..70</th><th scope=col>X.01..637</th><th scope=col>X.11..71</th><th scope=col>X.01..638</th><th scope=col>X.11..72</th><th scope=col>X.06..3</th><th scope=col>X.01..639</th><th scope=col>X.11..73</th><th scope=col>X.01..640</th><th scope=col>X.11..74</th><th scope=col>X.01..641</th><th scope=col>X.11..75</th><th scope=col>X.01..642</th><th scope=col>X.01..643</th><th scope=col>X.11..76</th><th scope=col>X.01..644</th><th scope=col>X.11..77</th><th scope=col>X.01..645</th><th scope=col>X.11..78</th><th scope=col>X.01..646</th><th scope=col>X.11..79</th><th scope=col>X.01..647</th><th scope=col>X.01..648</th><th scope=col>X.01..649</th><th scope=col>X.11..80</th><th scope=col>X.01..650</th><th scope=col>X.11..81</th><th scope=col>X.01..651</th><th scope=col>X.11..82</th><th scope=col>X.01..652</th><th scope=col>X.11..83</th><th scope=col>X.01..653</th><th scope=col>X.01..654</th><th scope=col>X.01..655</th><th scope=col>X.01..656</th><th scope=col>X.01..657</th><th scope=col>X.01..658</th><th scope=col>X.01..659</th><th scope=col>X.01..660</th><th scope=col>X.01..661</th><th scope=col>X.01..662</th><th scope=col>X.01..663</th><th scope=col>X.01..664</th><th scope=col>X.01..665</th><th scope=col>X.01..666</th><th scope=col>X.01..667</th><th scope=col>X.01..668</th><th scope=col>X.01..669</th><th scope=col>X.01..670</th><th scope=col>X.01..671</th><th scope=col>X.01..672</th><th scope=col>X.01..673</th><th scope=col>X.01..674</th><th scope=col>X.01..675</th><th scope=col>X.01..676</th><th scope=col>X.01..677</th><th scope=col>X.01..678</th><th scope=col>X.01..679</th><th scope=col>X.01..680</th><th scope=col>X.01..681</th><th scope=col>X.01..682</th><th scope=col>X.01..683</th><th scope=col>X.01..684</th><th scope=col>X.01..685</th><th scope=col>X.01..686</th><th scope=col>X.01..687</th><th scope=col>X.01..688</th><th scope=col>X.01..689</th><th scope=col>X.01..690</th><th scope=col>X.01..691</th><th scope=col>X.01..692</th><th scope=col>X.01..693</th><th scope=col>X.01..694</th><th scope=col>X.01..695</th><th scope=col>X.01..696</th><th scope=col>X.01..697</th><th scope=col>X.01..698</th><th scope=col>X.01..699</th><th scope=col>X.01..700</th><th scope=col>X.01..701</th><th scope=col>X.01..702</th><th scope=col>X.01..703</th><th scope=col>X.01..704</th><th scope=col>X.01..705</th><th scope=col>X.01..706</th><th scope=col>X.01..707</th><th scope=col>X.01..708</th><th scope=col>X.01..709</th><th scope=col>X.01..710</th><th scope=col>X.01..711</th><th scope=col>X.01..712</th><th scope=col>X.01..713</th><th scope=col>X.01..714</th><th scope=col>X.01..715</th><th scope=col>X.01..716</th><th scope=col>X.01..717</th><th scope=col>X.01..718</th><th scope=col>X.01..719</th><th scope=col>X.01..720</th><th scope=col>X.01..721</th><th scope=col>X.01..722</th><th scope=col>X.01..723</th><th scope=col>X.01..724</th><th scope=col>X.01..725</th><th scope=col>X.01..726</th><th scope=col>X.01..727</th><th scope=col>X.01..728</th><th scope=col>X.01..729</th><th scope=col>X.01..730</th><th scope=col>X.01..731</th><th scope=col>X.01..732</th><th scope=col>X.01..733</th><th scope=col>X.01..734</th><th scope=col>X.01..735</th><th scope=col>X.01..736</th><th scope=col>X.01..737</th><th scope=col>X.01..738</th><th scope=col>X.01..739</th><th scope=col>X.01..740</th><th scope=col>X.01..741</th><th scope=col>X.01..742</th><th scope=col>X.01..743</th><th scope=col>X.01..744</th><th scope=col>X.01..745</th><th scope=col>X.01..746</th><th scope=col>X.01..747</th><th scope=col>X.01..748</th><th scope=col>X.01..749</th><th scope=col>X.01..750</th><th scope=col>X.01..751</th><th scope=col>X.01..752</th><th scope=col>X.01..753</th><th scope=col>X.01..754</th><th scope=col>X.01..755</th><th scope=col>X.01..756</th><th scope=col>X.01..757</th><th scope=col>X.01..758</th><th scope=col>X.01..759</th><th scope=col>X.01..760</th><th scope=col>X.01..761</th><th scope=col>X.01..762</th><th scope=col>X.01..763</th><th scope=col>X.01..764</th><th scope=col>X.01..765</th><th scope=col>X.01..766</th><th scope=col>X.01..767</th><th scope=col>X.01..768</th><th scope=col>X.01..769</th><th scope=col>X.01..770</th><th scope=col>X.01..771</th><th scope=col>X.01..772</th><th scope=col>X.01..773</th><th scope=col>X.01..774</th><th scope=col>X.01..775</th><th scope=col>X.01..776</th><th scope=col>X.01..777</th><th scope=col>X.01..778</th><th scope=col>X.01..779</th><th scope=col>X.01..780</th><th scope=col>X.01..781</th><th scope=col>X.01..782</th><th scope=col>X.01..783</th><th scope=col>X.01..784</th><th scope=col>X.01..785</th><th scope=col>X.01..786</th><th scope=col>X.01..787</th><th scope=col>X.01..788</th><th scope=col>X.01..789</th><th scope=col>X.01..790</th><th scope=col>X.01..791</th><th scope=col>X.01..792</th><th scope=col>X.01..793</th><th scope=col>X.01..794</th><th scope=col>X.01..795</th><th scope=col>X.01..796</th><th scope=col>X.01..797</th><th scope=col>X.01..798</th><th scope=col>X.01..799</th><th scope=col>X.01..800</th><th scope=col>X.01..801</th><th scope=col>X.01..802</th><th scope=col>X.01..803</th><th scope=col>X.01..804</th><th scope=col>X.01..805</th><th scope=col>X.01..806</th><th scope=col>X.01..807</th><th scope=col>X.01..808</th><th scope=col>X.01..809</th><th scope=col>X.01..810</th><th scope=col>X.01..811</th><th scope=col>X.01..812</th><th scope=col>X.01..813</th><th scope=col>X.01..814</th><th scope=col>X.01..815</th><th scope=col>X.01..816</th><th scope=col>X.01..817</th><th scope=col>X.01..818</th><th scope=col>X.11..84</th><th scope=col>X.01..819</th><th scope=col>X.01..820</th><th scope=col>X.01..821</th><th scope=col>X.01..822</th><th scope=col>X.11..85</th><th scope=col>X.01..823</th><th scope=col>X.01..824</th><th scope=col>X.06..4</th><th scope=col>X.01..825</th><th scope=col>X.01..826</th><th scope=col>X.01..827</th><th scope=col>X.06..5</th><th scope=col>X.01..828</th><th scope=col>X.01..829</th><th scope=col>X.01..830</th><th scope=col>X.01..831</th><th scope=col>X.11..86</th><th scope=col>X.01..832</th><th scope=col>X.01..833</th><th scope=col>X.11..87</th><th scope=col>X.06..6</th><th scope=col>X.01..834</th><th scope=col>X.01..835</th><th scope=col>X.11..88</th><th scope=col>X.01..836</th><th scope=col>X.01..837</th><th scope=col>X.01..838</th><th scope=col>X.01..839</th><th scope=col>X.01..840</th><th scope=col>X.01..841</th><th scope=col>X.01..842</th><th scope=col>X.01..843</th><th scope=col>X.01..844</th><th scope=col>X.01..845</th><th scope=col>X.01..846</th><th scope=col>X.01..847</th><th scope=col>X.11..89</th><th scope=col>X.01..848</th><th scope=col>X.01..849</th><th scope=col>X.01..850</th><th scope=col>X.01..851</th><th scope=col>X.11..90</th><th scope=col>X.01..852</th><th scope=col>X.01..853</th><th scope=col>X.01..854</th><th scope=col>X.01..855</th><th scope=col>X.01..856</th><th scope=col>X.01..857</th><th scope=col>X.01..858</th><th scope=col>X.01..859</th><th scope=col>X.01..860</th><th scope=col>X.01..861</th><th scope=col>X.11..91</th><th scope=col>X.01..862</th><th scope=col>X.01..863</th><th scope=col>X.01..864</th><th scope=col>X.01..865</th><th scope=col>X.11..92</th><th scope=col>X.01..866</th><th scope=col>X.01..867</th><th scope=col>X.01..868</th><th scope=col>X.11..93</th><th scope=col>X.01..869</th><th scope=col>X.01..870</th><th scope=col>X.01..871</th><th scope=col>X.01..872</th><th scope=col>X.11..94</th><th scope=col>X.01..873</th><th scope=col>X.01..874</th><th scope=col>X.01..875</th><th scope=col>X.01..876</th><th scope=col>X.01..877</th><th scope=col>X.01..878</th><th scope=col>X.01..879</th><th scope=col>X.01..880</th><th scope=col>X.01..881</th><th scope=col>X.01..882</th><th scope=col>X.01..883</th><th scope=col>X.01..884</th><th scope=col>X.11..95</th><th scope=col>X.01..885</th><th scope=col>X.11..96</th><th scope=col>X.01..886</th><th scope=col>X.11..97</th><th scope=col>X.01..887</th><th scope=col>X.01..888</th><th scope=col>X.11..98</th><th scope=col>X.01..889</th><th scope=col>X.11..99</th><th scope=col>X.01..890</th><th scope=col>X.01..891</th><th scope=col>X.11..100</th><th scope=col>X.01..892</th><th scope=col>X.01..893</th><th scope=col>X.11..101</th><th scope=col>X.01..894</th><th scope=col>X.11..102</th><th scope=col>X.01..895</th><th scope=col>X.01..896</th><th scope=col>X.01..897</th><th scope=col>X.01..898</th><th scope=col>X.01..899</th><th scope=col>X.01..900</th><th scope=col>X.01..901</th><th scope=col>X.01..902</th><th scope=col>X.01..903</th><th scope=col>X.01..904</th><th scope=col>X.11..103</th><th scope=col>X.01..905</th><th scope=col>X.01..906</th><th scope=col>X.11..104</th><th scope=col>X.01..907</th><th scope=col>X.11..105</th><th scope=col>X.01..908</th><th scope=col>X.11..106</th><th scope=col>X.01..909</th><th scope=col>X.01..910</th><th scope=col>X.11..107</th><th scope=col>X.01..911</th><th scope=col>X.01..912</th><th scope=col>X.11..108</th><th scope=col>X.01..913</th><th scope=col>X.11..109</th><th scope=col>X.01..914</th><th scope=col>X.01..915</th><th scope=col>X.01..916</th><th scope=col>X.01..917</th><th scope=col>X.01..918</th><th scope=col>X.01..919</th><th scope=col>X.01..920</th><th scope=col>X.01..921</th><th scope=col>X.01..922</th><th scope=col>X.01..923</th><th scope=col>X.01..924</th><th scope=col>X.01..925</th><th scope=col>X.01..926</th><th scope=col>X.01..927</th><th scope=col>X.01..928</th><th scope=col>X.01..929</th><th scope=col>X.01..930</th><th scope=col>X.01..931</th><th scope=col>X.01..932</th><th scope=col>X.01..933</th><th scope=col>X.01..934</th><th scope=col>X.01..935</th><th scope=col>X.01..936</th><th scope=col>X.01..937</th><th scope=col>X.01..938</th><th scope=col>X.01..939</th><th scope=col>X.01..940</th><th scope=col>X.01..941</th><th scope=col>X.01..942</th><th scope=col>X.01..943</th><th scope=col>X.01..944</th><th scope=col>X.01..945</th><th scope=col>X.01..946</th><th scope=col>X.01..947</th><th scope=col>X.01..948</th><th scope=col>X.01..949</th><th scope=col>X.01..950</th><th scope=col>X.01..951</th><th scope=col>X.01..952</th><th scope=col>X.01..953</th><th scope=col>X.01..954</th><th scope=col>X.01..955</th><th scope=col>X.01..956</th><th scope=col>X.01..957</th><th scope=col>X.01..958</th><th scope=col>X.01..959</th><th scope=col>X.01..960</th><th scope=col>X.01..961</th><th scope=col>X.01..962</th><th scope=col>X.01..963</th><th scope=col>X.01..964</th><th scope=col>X.01..965</th><th scope=col>X.01..966</th><th scope=col>X.01..967</th><th scope=col>X.01..968</th><th scope=col>X.01..969</th><th scope=col>X.01..970</th><th scope=col>X.01..971</th><th scope=col>X.01..972</th><th scope=col>X.01..973</th><th scope=col>X.01..974</th><th scope=col>X.01..975</th><th scope=col>X.01..976</th><th scope=col>X.01..977</th><th scope=col>X.01..978</th><th scope=col>X.01..979</th><th scope=col>X.01..980</th><th scope=col>X.01..981</th><th scope=col>X.01..982</th><th scope=col>X.01..983</th><th scope=col>X.01..984</th><th scope=col>X.01..985</th><th scope=col>X.01..986</th><th scope=col>X.01..987</th><th scope=col>X.01..988</th><th scope=col>X.11..110</th><th scope=col>X.01..989</th><th scope=col>X.11..111</th><th scope=col>X.01..990</th><th scope=col>X.01..991</th><th scope=col>X.01..992</th><th scope=col>X.01..993</th><th scope=col>X.01..994</th><th scope=col>X.01..995</th><th scope=col>X.01..996</th><th scope=col>X.01..997</th><th scope=col>X.01..998</th><th scope=col>X.01..999</th><th scope=col>X.01..1000</th><th scope=col>X.01..1001</th><th scope=col>X.01..1002</th><th scope=col>X.01..1003</th><th scope=col>X.01..1004</th><th scope=col>X.01..1005</th><th scope=col>X.01..1006</th><th scope=col>X.01..1007</th><th scope=col>X.01..1008</th><th scope=col>X.01..1009</th><th scope=col>X.01..1010</th><th scope=col>X.01..1011</th><th scope=col>X.01..1012</th><th scope=col>X.01..1013</th><th scope=col>X.01..1014</th><th scope=col>X.01..1015</th><th scope=col>X.01..1016</th><th scope=col>X.01..1017</th><th scope=col>X.01..1018</th><th scope=col>X.01..1019</th><th scope=col>X.01..1020</th><th scope=col>X.01..1021</th><th scope=col>X.01..1022</th><th scope=col>X.01..1023</th><th scope=col>X.01..1024</th><th scope=col>X.01..1025</th><th scope=col>X.01..1026</th><th scope=col>X.01..1027</th><th scope=col>X.01..1028</th><th scope=col>X.01..1029</th><th scope=col>X.01..1030</th><th scope=col>X.01..1031</th><th scope=col>X.01..1032</th><th scope=col>X.01..1033</th><th scope=col>X.01..1034</th><th scope=col>X.01..1035</th><th scope=col>X.01..1036</th><th scope=col>X.01..1037</th><th scope=col>X.01..1038</th><th scope=col>X.01..1039</th><th scope=col>X.01..1040</th><th scope=col>X.01..1041</th><th scope=col>X.01..1042</th><th scope=col>X.01..1043</th><th scope=col>X.01..1044</th><th scope=col>X.01..1045</th><th scope=col>X.01..1046</th><th scope=col>X.01..1047</th><th scope=col>X.01..1048</th><th scope=col>X.01..1049</th><th scope=col>X.01..1050</th><th scope=col>X.01..1051</th><th scope=col>X.01..1052</th><th scope=col>X.01..1053</th><th scope=col>X.01..1054</th><th scope=col>X.01..1055</th><th scope=col>X.01..1056</th><th scope=col>X.01..1057</th><th scope=col>X.01..1058</th><th scope=col>X.01..1059</th><th scope=col>X.01..1060</th><th scope=col>X.01..1061</th><th scope=col>X.01..1062</th><th scope=col>X.01..1063</th><th scope=col>X.01..1064</th><th scope=col>X.01..1065</th><th scope=col>X.01..1066</th><th scope=col>X.01..1067</th><th scope=col>X.01..1068</th><th scope=col>X.01..1069</th><th scope=col>X.01..1070</th><th scope=col>X.01..1071</th><th scope=col>X.01..1072</th><th scope=col>X.01..1073</th><th scope=col>X.01..1074</th><th scope=col>X.01..1075</th><th scope=col>X.01..1076</th><th scope=col>X.01..1077</th><th scope=col>X.01..1078</th><th scope=col>X.01..1079</th><th scope=col>X.01..1080</th><th scope=col>X.01..1081</th><th scope=col>X.01..1082</th><th scope=col>X.01..1083</th><th scope=col>X.01..1084</th><th scope=col>X.01..1085</th><th scope=col>X.01..1086</th><th scope=col>X.01..1087</th><th scope=col>X.01..1088</th><th scope=col>X.01..1089</th><th scope=col>X.01..1090</th><th scope=col>X.01..1091</th><th scope=col>X.01..1092</th></tr></thead>\n",
       "<tbody>\n",
       "\t<tr><th scope=row>1</th><td>01</td><td>01</td><td>01</td><td>01</td><td>01</td><td>01</td><td>01</td><td>01</td><td>01</td><td>01</td><td>01</td><td>01</td><td>01</td><td>01</td><td>01</td><td>01</td><td>01</td><td>01</td><td>01</td><td>01</td><td>01</td><td>01</td><td>01</td><td>01</td><td>01</td><td>01</td><td>01</td><td>01</td><td>01</td><td>01</td><td>01</td><td>01</td><td>01</td><td>01</td><td>01</td><td>01</td><td>01</td><td>01</td><td>01</td><td>01</td><td>01</td><td>01</td><td>01</td><td>01</td><td>01</td><td>01</td><td>01</td><td>01</td><td>01</td><td>01</td><td>01</td><td>01</td><td>01</td><td>01</td><td>01</td><td>01</td><td>01</td><td>01</td><td>01</td><td>01</td><td>01</td><td>01</td><td>01</td><td>01</td><td>01</td><td>01</td><td>01</td><td>01</td><td>01</td><td>01</td><td>01</td><td>01</td><td>01</td><td>01</td><td>01</td><td>01</td><td>01</td><td>01</td><td>01</td><td>01</td><td>01</td><td>01</td><td>01</td><td>01</td><td>01</td><td>01</td><td>01</td><td>01</td><td>01</td><td>01</td><td>01</td><td>01</td><td>01</td><td>01</td><td>01</td><td>01</td><td>01</td><td>01</td><td>01</td><td>01</td><td>01</td><td>01</td><td>01</td><td>01</td><td>01</td><td>01</td><td>01</td><td>01</td><td>01</td><td>01</td><td>01</td><td>01</td><td>01</td><td>01</td><td>01</td><td>01</td><td>01</td><td>01</td><td>01</td><td>01</td><td>01</td><td>01</td><td>01</td><td>01</td><td>01</td><td>11</td><td>01</td><td>01</td><td>11</td><td>01</td><td>01</td><td>11</td><td>01</td><td>01</td><td>11</td><td>01</td><td>01</td><td>11</td><td>01</td><td>11</td><td>01</td><td>11</td><td>01</td><td>01</td><td>01</td><td>01</td><td>01</td><td>01</td><td>01</td><td>01</td><td>01</td><td>01</td><td>01</td><td>01</td><td>01</td><td>01</td><td>01</td><td>01</td><td>01</td><td>01</td><td>01</td><td>01</td><td>01</td><td>01</td><td>01</td><td>01</td><td>01</td><td>01</td><td>01</td><td>01</td><td>01</td><td>01</td><td>01</td><td>01</td><td>01</td><td>01</td><td>01</td><td>01</td><td>01</td><td>01</td><td>01</td><td>01</td><td>01</td><td>01</td><td>01</td><td>01</td><td>01</td><td>01</td><td>01</td><td>01</td><td>01</td><td>01</td><td>01</td><td>01</td><td>01</td><td>01</td><td>01</td><td>01</td><td>01</td><td>01</td><td>01</td><td>01</td><td>01</td><td>01</td><td>01</td><td>01</td><td>01</td><td>01</td><td>01</td><td>01</td><td>01</td><td>01</td><td>01</td><td>01</td><td>01</td><td>01</td><td>01</td><td>01</td><td>01</td><td>01</td><td>01</td><td>01</td><td>01</td><td>01</td><td>01</td><td>01</td><td>01</td><td>01</td><td>01</td><td>01</td><td>01</td><td>01</td><td>01</td><td>01</td><td>01</td><td>01</td><td>01</td><td>01</td><td>01</td><td>01</td><td>01</td><td>01</td><td>01</td><td>01</td><td>01</td><td>01</td><td>01</td><td>01</td><td>01</td><td>01</td><td>01</td><td>01</td><td>01</td><td>01</td><td>01</td><td>01</td><td>01</td><td>01</td><td>01</td><td>11</td><td>01</td><td>01</td><td>01</td><td>01</td><td>11</td><td>01</td><td>01</td><td>11</td><td>01</td><td>01</td><td>01</td><td>11</td><td>01</td><td>01</td><td>01</td><td>01</td><td>01</td><td>01</td><td>01</td><td>01</td><td>01</td><td>01</td><td>01</td><td>01</td><td>01</td><td>01</td><td>01</td><td>01</td><td>01</td><td>01</td><td>01</td><td>01</td><td>01</td><td>01</td><td>01</td><td>01</td><td>01</td><td>01</td><td>01</td><td>06</td><td>01</td><td>01</td><td>01</td><td>01</td><td>01</td><td>01</td><td>01</td><td>01</td><td>01</td><td>01</td><td>01</td><td>01</td><td>01</td><td>01</td><td>01</td><td>01</td><td>01</td><td>01</td><td>01</td><td>01</td><td>01</td><td>01</td><td>01</td><td>01</td><td>01</td><td>01</td><td>01</td><td>01</td><td>01</td><td>01</td><td>01</td><td>01</td><td>01</td><td>01</td><td>01</td><td>01</td><td>01</td><td>01</td><td>01</td><td>01</td><td>01</td><td>01</td><td>01</td><td>01</td><td>01</td><td>01</td><td>01</td><td>01</td><td>01</td><td>01</td><td>01</td><td>01</td><td>01</td><td>01</td><td>01</td><td>01</td><td>01</td><td>01</td><td>01</td><td>01</td><td>01</td><td>01</td><td>01</td><td>01</td><td>01</td><td>01</td><td>01</td><td>01</td><td>01</td><td>01</td><td>01</td><td>01</td><td>01</td><td>01</td><td>01</td><td>01</td><td>01</td><td>01</td><td>01</td><td>01</td><td>01</td><td>01</td><td>01</td><td>01</td><td>01</td><td>01</td><td>01</td><td>01</td><td>01</td><td>01</td><td>01</td><td>01</td><td>01</td><td>01</td><td>01</td><td>01</td><td>01</td><td>01</td><td>01</td><td>01</td><td>01</td><td>01</td><td>01</td><td>01</td><td>01</td><td>01</td><td>01</td><td>01</td><td>01</td><td>01</td><td>01</td><td>01</td><td>01</td><td>01</td><td>01</td><td>01</td><td>01</td><td>01</td><td>01</td><td>01</td><td>01</td><td>01</td><td>01</td><td>01</td><td>01</td><td>01</td><td>01</td><td>01</td><td>01</td><td>01</td><td>01</td><td>01</td><td>01</td><td>01</td><td>01</td><td>01</td><td>01</td><td>01</td><td>01</td><td>01</td><td>01</td><td>01</td><td>01</td><td>01</td><td>01</td><td>01</td><td>01</td><td>01</td><td>01</td><td>01</td><td>01</td><td>01</td><td>01</td><td>01</td><td>01</td><td>01</td><td>01</td><td>01</td><td>01</td><td>01</td><td>01</td><td>01</td><td>01</td><td>01</td><td>01</td><td>01</td><td>01</td><td>01</td><td>01</td><td>01</td><td>01</td><td>01</td><td>01</td><td>01</td><td>01</td><td>01</td><td>01</td><td>01</td><td>01</td><td>01</td><td>01</td><td>01</td><td>01</td><td>01</td><td>01</td><td>01</td><td>01</td><td>01</td><td>01</td><td>01</td><td>01</td><td>01</td><td>01</td><td>01</td><td>01</td><td>01</td><td>01</td><td>01</td><td>01</td><td>01</td><td>01</td><td>01</td><td>01</td><td>01</td><td>01</td><td>01</td><td>01</td><td>01</td><td>01</td><td>01</td><td>01</td><td>01</td><td>01</td><td>01</td><td>01</td><td>01</td><td>01</td><td>01</td><td>01</td><td>01</td><td>01</td><td>01</td><td>01</td><td>01</td><td>01</td><td>01</td><td>01</td><td>01</td><td>01</td><td>01</td><td>11</td><td>01</td><td>01</td><td>01</td><td>11</td><td>01</td><td>11</td><td>01</td><td>01</td><td>01</td><td>11</td><td>01</td><td>01</td><td>11</td><td>01</td><td>01</td><td>11</td><td>01</td><td>11</td><td>01</td><td>01</td><td>11</td><td>01</td><td>11</td><td>01</td><td>01</td><td>01</td><td>01</td><td>11</td><td>01</td><td>01</td><td>11</td><td>01</td><td>01</td><td>01</td><td>11</td><td>01</td><td>01</td><td>11</td><td>01</td><td>11</td><td>01</td><td>11</td><td>01</td><td>11</td><td>01</td><td>11</td><td>01</td><td>11</td><td>01</td><td>01</td><td>11</td><td>01</td><td>01</td><td>11</td><td>01</td><td>01</td><td>11</td><td>01</td><td>11</td><td>01</td><td>01</td><td>11</td><td>01</td><td>11</td><td>01</td><td>11</td><td>01</td><td>11</td><td>01</td><td>11</td><td>01</td><td>01</td><td>11</td><td>01</td><td>11</td><td>01</td><td>01</td><td>11</td><td>01</td><td>11</td><td>01</td><td>11</td><td>01</td><td>01</td><td>01</td><td>01</td><td>01</td><td>01</td><td>01</td><td>01</td><td>01</td><td>01</td><td>01</td><td>01</td><td>01</td><td>11</td><td>01</td><td>01</td><td>11</td><td>01</td><td>11</td><td>01</td><td>11</td><td>01</td><td>01</td><td>01</td><td>01</td><td>11</td><td>01</td><td>01</td><td>01</td><td>01</td><td>01</td><td>01</td><td>01</td><td>01</td><td>01</td><td>01</td><td>01</td><td>01</td><td>01</td><td>01</td><td>01</td><td>01</td><td>01</td><td>01</td><td>01</td><td>01</td><td>11</td><td>01</td><td>11</td><td>01</td><td>11</td><td>01</td><td>11</td><td>01</td><td>11</td><td>01</td><td>11</td><td>01</td><td>11</td><td>01</td><td>11</td><td>01</td><td>11</td><td>01</td><td>01</td><td>11</td><td>01</td><td>11</td><td>06</td><td>01</td><td>11</td><td>01</td><td>11</td><td>01</td><td>06</td><td>01</td><td>11</td><td>01</td><td>11</td><td>01</td><td>11</td><td>01</td><td>11</td><td>01</td><td>01</td><td>01</td><td>11</td><td>01</td><td>11</td><td>01</td><td>01</td><td>11</td><td>01</td><td>11</td><td>01</td><td>11</td><td>01</td><td>11</td><td>01</td><td>11</td><td>01</td><td>11</td><td>06</td><td>01</td><td>11</td><td>01</td><td>11</td><td>01</td><td>11</td><td>01</td><td>01</td><td>11</td><td>01</td><td>11</td><td>01</td><td>11</td><td>01</td><td>11</td><td>01</td><td>01</td><td>01</td><td>11</td><td>01</td><td>11</td><td>01</td><td>11</td><td>01</td><td>11</td><td>01</td><td>01</td><td>01</td><td>01</td><td>01</td><td>01</td><td>01</td><td>01</td><td>01</td><td>01</td><td>01</td><td>01</td><td>01</td><td>01</td><td>01</td><td>01</td><td>01</td><td>01</td><td>01</td><td>01</td><td>01</td><td>01</td><td>01</td><td>01</td><td>01</td><td>01</td><td>01</td><td>01</td><td>01</td><td>01</td><td>01</td><td>01</td><td>01</td><td>01</td><td>01</td><td>01</td><td>01</td><td>01</td><td>01</td><td>01</td><td>01</td><td>01</td><td>01</td><td>01</td><td>01</td><td>01</td><td>01</td><td>01</td><td>01</td><td>01</td><td>01</td><td>01</td><td>01</td><td>01</td><td>01</td><td>01</td><td>01</td><td>01</td><td>01</td><td>01</td><td>01</td><td>01</td><td>01</td><td>01</td><td>01</td><td>01</td><td>01</td><td>01</td><td>01</td><td>01</td><td>01</td><td>01</td><td>01</td><td>01</td><td>01</td><td>01</td><td>01</td><td>01</td><td>01</td><td>01</td><td>01</td><td>01</td><td>01</td><td>01</td><td>01</td><td>01</td><td>01</td><td>01</td><td>01</td><td>01</td><td>01</td><td>01</td><td>01</td><td>01</td><td>01</td><td>01</td><td>01</td><td>01</td><td>01</td><td>01</td><td>01</td><td>01</td><td>01</td><td>01</td><td>01</td><td>01</td><td>01</td><td>01</td><td>01</td><td>01</td><td>01</td><td>01</td><td>01</td><td>01</td><td>01</td><td>01</td><td>01</td><td>01</td><td>01</td><td>01</td><td>01</td><td>01</td><td>01</td><td>01</td><td>01</td><td>01</td><td>01</td><td>01</td><td>01</td><td>01</td><td>01</td><td>01</td><td>01</td><td>01</td><td>01</td><td>01</td><td>01</td><td>01</td><td>01</td><td>01</td><td>01</td><td>01</td><td>01</td><td>01</td><td>01</td><td>01</td><td>01</td><td>01</td><td>01</td><td>01</td><td>01</td><td>01</td><td>01</td><td>01</td><td>01</td><td>01</td><td>01</td><td>01</td><td>01</td><td>01</td><td>01</td><td>01</td><td>01</td><td>01</td><td>01</td><td>01</td><td>11</td><td>01</td><td>01</td><td>01</td><td>01</td><td>11</td><td>01</td><td>01</td><td>06</td><td>01</td><td>01</td><td>01</td><td>06</td><td>01</td><td>01</td><td>01</td><td>01</td><td>11</td><td>01</td><td>01</td><td>11</td><td>06</td><td>01</td><td>01</td><td>11</td><td>01</td><td>01</td><td>01</td><td>01</td><td>01</td><td>01</td><td>01</td><td>01</td><td>01</td><td>01</td><td>01</td><td>01</td><td>11</td><td>01</td><td>01</td><td>01</td><td>01</td><td>11</td><td>01</td><td>01</td><td>01</td><td>01</td><td>01</td><td>01</td><td>01</td><td>01</td><td>01</td><td>01</td><td>11</td><td>01</td><td>01</td><td>01</td><td>01</td><td>11</td><td>01</td><td>01</td><td>01</td><td>11</td><td>01</td><td>01</td><td>01</td><td>01</td><td>11</td><td>01</td><td>01</td><td>01</td><td>01</td><td>01</td><td>01</td><td>01</td><td>01</td><td>01</td><td>01</td><td>01</td><td>01</td><td>11</td><td>01</td><td>11</td><td>01</td><td>11</td><td>01</td><td>01</td><td>11</td><td>01</td><td>11</td><td>01</td><td>01</td><td>11</td><td>01</td><td>01</td><td>11</td><td>01</td><td>11</td><td>01</td><td>01</td><td>01</td><td>01</td><td>01</td><td>01</td><td>01</td><td>01</td><td>01</td><td>01</td><td>11</td><td>01</td><td>01</td><td>11</td><td>01</td><td>11</td><td>01</td><td>11</td><td>01</td><td>01</td><td>11</td><td>01</td><td>01</td><td>11</td><td>01</td><td>11</td><td>01</td><td>01</td><td>01</td><td>01</td><td>01</td><td>01</td><td>01</td><td>01</td><td>01</td><td>01</td><td>01</td><td>01</td><td>01</td><td>01</td><td>01</td><td>01</td><td>01</td><td>01</td><td>01</td><td>01</td><td>01</td><td>01</td><td>01</td><td>01</td><td>01</td><td>01</td><td>01</td><td>01</td><td>01</td><td>01</td><td>01</td><td>01</td><td>01</td><td>01</td><td>01</td><td>01</td><td>01</td><td>01</td><td>01</td><td>01</td><td>01</td><td>01</td><td>01</td><td>01</td><td>01</td><td>01</td><td>01</td><td>01</td><td>01</td><td>01</td><td>01</td><td>01</td><td>01</td><td>01</td><td>01</td><td>01</td><td>01</td><td>01</td><td>01</td><td>01</td><td>01</td><td>01</td><td>01</td><td>01</td><td>01</td><td>01</td><td>01</td><td>01</td><td>01</td><td>01</td><td>01</td><td>01</td><td>01</td><td>01</td><td>01</td><td>11</td><td>01</td><td>11</td><td>01</td><td>01</td><td>01</td><td>01</td><td>01</td><td>01</td><td>01</td><td>01</td><td>01</td><td>01</td><td>01</td><td>01</td><td>01</td><td>01</td><td>01</td><td>01</td><td>01</td><td>01</td><td>01</td><td>01</td><td>01</td><td>01</td><td>01</td><td>01</td><td>01</td><td>01</td><td>01</td><td>01</td><td>01</td><td>01</td><td>01</td><td>01</td><td>01</td><td>01</td><td>01</td><td>01</td><td>01</td><td>01</td><td>01</td><td>01</td><td>01</td><td>01</td><td>01</td><td>01</td><td>01</td><td>01</td><td>01</td><td>01</td><td>01</td><td>01</td><td>01</td><td>01</td><td>01</td><td>01</td><td>01</td><td>01</td><td>01</td><td>01</td><td>01</td><td>01</td><td>01</td><td>01</td><td>01</td><td>01</td><td>01</td><td>01</td><td>01</td><td>01</td><td>01</td><td>01</td><td>01</td><td>01</td><td>01</td><td>01</td><td>01</td><td>01</td><td>01</td><td>01</td><td>01</td><td>01</td><td>01</td><td>01</td><td>01</td><td>01</td><td>01</td><td>01</td><td>01</td><td>01</td><td>01</td><td>01</td><td>01</td><td>01</td><td>01</td><td>01</td><td>01</td><td>01</td><td>01</td><td>01</td><td>01</td><td>01</td><td>01</td><td>01</td><td>01</td></tr>\n",
       "</tbody>\n",
       "</table>\n"
      ],
      "text/latex": [
       "\\begin{tabular}{r|llllllllllllllllllllllllllllllllllllllllllllllllllllllllllllllllllllllllllllllllllllllllllllllllllllllllllllllllllllllllllllllllllllllllllllllllllllllllllllllllllllllllllllllllllllllllllllllllllllllllllllllllllllllllllllllllllllllllllllllllllllllllllllllllllllllllllllllllllllllllllllllllllllllllllllllllllllllllllllllllllllllllllllllllllllllllllllllllllllllllllllllllllllllllllllllllllllllllllllllllllllllllllllllllllllllllllllllllllllllllllllllllllllllllllllllllllllllllllllllllllllllllllllllllllllllllllllllllllllllllllllllllllllllllllllllllllllllllllllllllllllllllllllllllllllllllllllllllllllllllllllllllllllllllllllllllllllllllllllllllllllllllllllllllllllllllllllllllllllllllllllllllllllllllllllllllllllllllllllllllllllllllllllllllllllllllllllllllllllllllllllllllllllllllllllllllllllllllllllllllllllllllllllllllllllllllllllllllllllllllllllllllllllllllllllllllllllllllllllllllllllllllllllllllllllllllllllllllllllllllllllllllllllllllllllllllllllllllllllllllllllllllllllllllllllllllllllllllllllllllllllllllllllllllllllllllllllllllllllllllllllllllllllllllllllllllllllllllllllllllllllllllllllllllllllllllllllllllllllllllllllllllllllllllllllllllllllllllllllllllllllllllllllllllllllllllllllllllllllllllllllllllllll}\n",
       "  & X.01. & X.01..1 & X.01..2 & X.01..3 & X.01..4 & X.01..5 & X.01..6 & X.01..7 & X.01..8 & X.01..9 & X.01..10 & X.01..11 & X.01..12 & X.01..13 & X.01..14 & X.01..15 & X.01..16 & X.01..17 & X.01..18 & X.01..19 & X.01..20 & X.01..21 & X.01..22 & X.01..23 & X.01..24 & X.01..25 & X.01..26 & X.01..27 & X.01..28 & X.01..29 & X.01..30 & X.01..31 & X.01..32 & X.01..33 & X.01..34 & X.01..35 & X.01..36 & X.01..37 & X.01..38 & X.01..39 & X.01..40 & X.01..41 & X.01..42 & X.01..43 & X.01..44 & X.01..45 & X.01..46 & X.01..47 & X.01..48 & X.01..49 & X.01..50 & X.01..51 & X.01..52 & X.01..53 & X.01..54 & X.01..55 & X.01..56 & X.01..57 & X.01..58 & X.01..59 & X.01..60 & X.01..61 & X.01..62 & X.01..63 & X.01..64 & X.01..65 & X.01..66 & X.01..67 & X.01..68 & X.01..69 & X.01..70 & X.01..71 & X.01..72 & X.01..73 & X.01..74 & X.01..75 & X.01..76 & X.01..77 & X.01..78 & X.01..79 & X.01..80 & X.01..81 & X.01..82 & X.01..83 & X.01..84 & X.01..85 & X.01..86 & X.01..87 & X.01..88 & X.01..89 & X.01..90 & X.01..91 & X.01..92 & X.01..93 & X.01..94 & X.01..95 & X.01..96 & X.01..97 & X.01..98 & X.01..99 & X.01..100 & X.01..101 & X.01..102 & X.01..103 & X.01..104 & X.01..105 & X.01..106 & X.01..107 & X.01..108 & X.01..109 & X.01..110 & X.01..111 & X.01..112 & X.01..113 & X.01..114 & X.01..115 & X.01..116 & X.01..117 & X.01..118 & X.01..119 & X.01..120 & X.01..121 & X.01..122 & X.01..123 & X.01..124 & X.11. & X.01..125 & X.01..126 & X.11..1 & X.01..127 & X.01..128 & X.11..2 & X.01..129 & X.01..130 & X.11..3 & X.01..131 & X.01..132 & X.11..4 & X.01..133 & X.11..5 & X.01..134 & X.11..6 & X.01..135 & X.01..136 & X.01..137 & X.01..138 & X.01..139 & X.01..140 & X.01..141 & X.01..142 & X.01..143 & X.01..144 & X.01..145 & X.01..146 & X.01..147 & X.01..148 & X.01..149 & X.01..150 & X.01..151 & X.01..152 & X.01..153 & X.01..154 & X.01..155 & X.01..156 & X.01..157 & X.01..158 & X.01..159 & X.01..160 & X.01..161 & X.01..162 & X.01..163 & X.01..164 & X.01..165 & X.01..166 & X.01..167 & X.01..168 & X.01..169 & X.01..170 & X.01..171 & X.01..172 & X.01..173 & X.01..174 & X.01..175 & X.01..176 & X.01..177 & X.01..178 & X.01..179 & X.01..180 & X.01..181 & X.01..182 & X.01..183 & X.01..184 & X.01..185 & X.01..186 & X.01..187 & X.01..188 & X.01..189 & X.01..190 & X.01..191 & X.01..192 & X.01..193 & X.01..194 & X.01..195 & X.01..196 & X.01..197 & X.01..198 & X.01..199 & X.01..200 & X.01..201 & X.01..202 & X.01..203 & X.01..204 & X.01..205 & X.01..206 & X.01..207 & X.01..208 & X.01..209 & X.01..210 & X.01..211 & X.01..212 & X.01..213 & X.01..214 & X.01..215 & X.01..216 & X.01..217 & X.01..218 & X.01..219 & X.01..220 & X.01..221 & X.01..222 & X.01..223 & X.01..224 & X.01..225 & X.01..226 & X.01..227 & X.01..228 & X.01..229 & X.01..230 & X.01..231 & X.01..232 & X.01..233 & X.01..234 & X.01..235 & X.01..236 & X.01..237 & X.01..238 & X.01..239 & X.01..240 & X.01..241 & X.01..242 & X.01..243 & X.01..244 & X.01..245 & X.01..246 & X.01..247 & X.01..248 & X.01..249 & X.01..250 & X.01..251 & X.11..7 & X.01..252 & X.01..253 & X.01..254 & X.01..255 & X.11..8 & X.01..256 & X.01..257 & X.11..9 & X.01..258 & X.01..259 & X.01..260 & X.11..10 & X.01..261 & X.01..262 & X.01..263 & X.01..264 & X.01..265 & X.01..266 & X.01..267 & X.01..268 & X.01..269 & X.01..270 & X.01..271 & X.01..272 & X.01..273 & X.01..274 & X.01..275 & X.01..276 & X.01..277 & X.01..278 & X.01..279 & X.01..280 & X.01..281 & X.01..282 & X.01..283 & X.01..284 & X.01..285 & X.01..286 & X.01..287 & X.06. & X.01..288 & X.01..289 & X.01..290 & X.01..291 & X.01..292 & X.01..293 & X.01..294 & X.01..295 & X.01..296 & X.01..297 & X.01..298 & X.01..299 & X.01..300 & X.01..301 & X.01..302 & X.01..303 & X.01..304 & X.01..305 & X.01..306 & X.01..307 & X.01..308 & X.01..309 & X.01..310 & X.01..311 & X.01..312 & X.01..313 & X.01..314 & X.01..315 & X.01..316 & X.01..317 & X.01..318 & X.01..319 & X.01..320 & X.01..321 & X.01..322 & X.01..323 & X.01..324 & X.01..325 & X.01..326 & X.01..327 & X.01..328 & X.01..329 & X.01..330 & X.01..331 & X.01..332 & X.01..333 & X.01..334 & X.01..335 & X.01..336 & X.01..337 & X.01..338 & X.01..339 & X.01..340 & X.01..341 & X.01..342 & X.01..343 & X.01..344 & X.01..345 & X.01..346 & X.01..347 & X.01..348 & X.01..349 & X.01..350 & X.01..351 & X.01..352 & X.01..353 & X.01..354 & X.01..355 & X.01..356 & X.01..357 & X.01..358 & X.01..359 & X.01..360 & X.01..361 & X.01..362 & X.01..363 & X.01..364 & X.01..365 & X.01..366 & X.01..367 & X.01..368 & X.01..369 & X.01..370 & X.01..371 & X.01..372 & X.01..373 & X.01..374 & X.01..375 & X.01..376 & X.01..377 & X.01..378 & X.01..379 & X.01..380 & X.01..381 & X.01..382 & X.01..383 & X.01..384 & X.01..385 & X.01..386 & X.01..387 & X.01..388 & X.01..389 & X.01..390 & X.01..391 & X.01..392 & X.01..393 & X.01..394 & X.01..395 & X.01..396 & X.01..397 & X.01..398 & X.01..399 & X.01..400 & X.01..401 & X.01..402 & X.01..403 & X.01..404 & X.01..405 & X.01..406 & X.01..407 & X.01..408 & X.01..409 & X.01..410 & X.01..411 & X.01..412 & X.01..413 & X.01..414 & X.01..415 & X.01..416 & X.01..417 & X.01..418 & X.01..419 & X.01..420 & X.01..421 & X.01..422 & X.01..423 & X.01..424 & X.01..425 & X.01..426 & X.01..427 & X.01..428 & X.01..429 & X.01..430 & X.01..431 & X.01..432 & X.01..433 & X.01..434 & X.01..435 & X.01..436 & X.01..437 & X.01..438 & X.01..439 & X.01..440 & X.01..441 & X.01..442 & X.01..443 & X.01..444 & X.01..445 & X.01..446 & X.01..447 & X.01..448 & X.01..449 & X.01..450 & X.01..451 & X.01..452 & X.01..453 & X.01..454 & X.01..455 & X.01..456 & X.01..457 & X.01..458 & X.01..459 & X.01..460 & X.01..461 & X.01..462 & X.01..463 & X.01..464 & X.01..465 & X.01..466 & X.01..467 & X.01..468 & X.01..469 & X.01..470 & X.01..471 & X.01..472 & X.01..473 & X.01..474 & X.01..475 & X.01..476 & X.01..477 & X.01..478 & X.01..479 & X.01..480 & X.01..481 & X.01..482 & X.01..483 & X.01..484 & X.01..485 & X.01..486 & X.01..487 & X.01..488 & X.01..489 & X.01..490 & X.01..491 & X.01..492 & X.01..493 & X.01..494 & X.01..495 & X.01..496 & X.01..497 & X.01..498 & X.01..499 & X.01..500 & X.01..501 & X.01..502 & X.01..503 & X.01..504 & X.01..505 & X.01..506 & X.01..507 & X.01..508 & X.01..509 & X.01..510 & X.01..511 & X.01..512 & X.01..513 & X.01..514 & X.01..515 & X.01..516 & X.01..517 & X.11..11 & X.01..518 & X.01..519 & X.01..520 & X.11..12 & X.01..521 & X.11..13 & X.01..522 & X.01..523 & X.01..524 & X.11..14 & X.01..525 & X.01..526 & X.11..15 & X.01..527 & X.01..528 & X.11..16 & X.01..529 & X.11..17 & X.01..530 & X.01..531 & X.11..18 & X.01..532 & X.11..19 & X.01..533 & X.01..534 & X.01..535 & X.01..536 & X.11..20 & X.01..537 & X.01..538 & X.11..21 & X.01..539 & X.01..540 & X.01..541 & X.11..22 & X.01..542 & X.01..543 & X.11..23 & X.01..544 & X.11..24 & X.01..545 & X.11..25 & X.01..546 & X.11..26 & X.01..547 & X.11..27 & X.01..548 & X.11..28 & X.01..549 & X.01..550 & X.11..29 & X.01..551 & X.01..552 & X.11..30 & X.01..553 & X.01..554 & X.11..31 & X.01..555 & X.11..32 & X.01..556 & X.01..557 & X.11..33 & X.01..558 & X.11..34 & X.01..559 & X.11..35 & X.01..560 & X.11..36 & X.01..561 & X.11..37 & X.01..562 & X.01..563 & X.11..38 & X.01..564 & X.11..39 & X.01..565 & X.01..566 & X.11..40 & X.01..567 & X.11..41 & X.01..568 & X.11..42 & X.01..569 & X.01..570 & X.01..571 & X.01..572 & X.01..573 & X.01..574 & X.01..575 & X.01..576 & X.01..577 & X.01..578 & X.01..579 & X.01..580 & X.01..581 & X.11..43 & X.01..582 & X.01..583 & X.11..44 & X.01..584 & X.11..45 & X.01..585 & X.11..46 & X.01..586 & X.01..587 & X.01..588 & X.01..589 & X.11..47 & X.01..590 & X.01..591 & X.01..592 & X.01..593 & X.01..594 & X.01..595 & X.01..596 & X.01..597 & X.01..598 & X.01..599 & X.01..600 & X.01..601 & X.01..602 & X.01..603 & X.01..604 & X.01..605 & X.01..606 & X.01..607 & X.01..608 & X.01..609 & X.11..48 & X.01..610 & X.11..49 & X.01..611 & X.11..50 & X.01..612 & X.11..51 & X.01..613 & X.11..52 & X.01..614 & X.11..53 & X.01..615 & X.11..54 & X.01..616 & X.11..55 & X.01..617 & X.11..56 & X.01..618 & X.01..619 & X.11..57 & X.01..620 & X.11..58 & X.06..1 & X.01..621 & X.11..59 & X.01..622 & X.11..60 & X.01..623 & X.06..2 & X.01..624 & X.11..61 & X.01..625 & X.11..62 & X.01..626 & X.11..63 & X.01..627 & X.11..64 & X.01..628 & X.01..629 & X.01..630 & X.11..65 & X.01..631 & X.11..66 & X.01..632 & X.01..633 & X.11..67 & X.01..634 & X.11..68 & X.01..635 & X.11..69 & X.01..636 & X.11..70 & X.01..637 & X.11..71 & X.01..638 & X.11..72 & X.06..3 & X.01..639 & X.11..73 & X.01..640 & X.11..74 & X.01..641 & X.11..75 & X.01..642 & X.01..643 & X.11..76 & X.01..644 & X.11..77 & X.01..645 & X.11..78 & X.01..646 & X.11..79 & X.01..647 & X.01..648 & X.01..649 & X.11..80 & X.01..650 & X.11..81 & X.01..651 & X.11..82 & X.01..652 & X.11..83 & X.01..653 & X.01..654 & X.01..655 & X.01..656 & X.01..657 & X.01..658 & X.01..659 & X.01..660 & X.01..661 & X.01..662 & X.01..663 & X.01..664 & X.01..665 & X.01..666 & X.01..667 & X.01..668 & X.01..669 & X.01..670 & X.01..671 & X.01..672 & X.01..673 & X.01..674 & X.01..675 & X.01..676 & X.01..677 & X.01..678 & X.01..679 & X.01..680 & X.01..681 & X.01..682 & X.01..683 & X.01..684 & X.01..685 & X.01..686 & X.01..687 & X.01..688 & X.01..689 & X.01..690 & X.01..691 & X.01..692 & X.01..693 & X.01..694 & X.01..695 & X.01..696 & X.01..697 & X.01..698 & X.01..699 & X.01..700 & X.01..701 & X.01..702 & X.01..703 & X.01..704 & X.01..705 & X.01..706 & X.01..707 & X.01..708 & X.01..709 & X.01..710 & X.01..711 & X.01..712 & X.01..713 & X.01..714 & X.01..715 & X.01..716 & X.01..717 & X.01..718 & X.01..719 & X.01..720 & X.01..721 & X.01..722 & X.01..723 & X.01..724 & X.01..725 & X.01..726 & X.01..727 & X.01..728 & X.01..729 & X.01..730 & X.01..731 & X.01..732 & X.01..733 & X.01..734 & X.01..735 & X.01..736 & X.01..737 & X.01..738 & X.01..739 & X.01..740 & X.01..741 & X.01..742 & X.01..743 & X.01..744 & X.01..745 & X.01..746 & X.01..747 & X.01..748 & X.01..749 & X.01..750 & X.01..751 & X.01..752 & X.01..753 & X.01..754 & X.01..755 & X.01..756 & X.01..757 & X.01..758 & X.01..759 & X.01..760 & X.01..761 & X.01..762 & X.01..763 & X.01..764 & X.01..765 & X.01..766 & X.01..767 & X.01..768 & X.01..769 & X.01..770 & X.01..771 & X.01..772 & X.01..773 & X.01..774 & X.01..775 & X.01..776 & X.01..777 & X.01..778 & X.01..779 & X.01..780 & X.01..781 & X.01..782 & X.01..783 & X.01..784 & X.01..785 & X.01..786 & X.01..787 & X.01..788 & X.01..789 & X.01..790 & X.01..791 & X.01..792 & X.01..793 & X.01..794 & X.01..795 & X.01..796 & X.01..797 & X.01..798 & X.01..799 & X.01..800 & X.01..801 & X.01..802 & X.01..803 & X.01..804 & X.01..805 & X.01..806 & X.01..807 & X.01..808 & X.01..809 & X.01..810 & X.01..811 & X.01..812 & X.01..813 & X.01..814 & X.01..815 & X.01..816 & X.01..817 & X.01..818 & X.11..84 & X.01..819 & X.01..820 & X.01..821 & X.01..822 & X.11..85 & X.01..823 & X.01..824 & X.06..4 & X.01..825 & X.01..826 & X.01..827 & X.06..5 & X.01..828 & X.01..829 & X.01..830 & X.01..831 & X.11..86 & X.01..832 & X.01..833 & X.11..87 & X.06..6 & X.01..834 & X.01..835 & X.11..88 & X.01..836 & X.01..837 & X.01..838 & X.01..839 & X.01..840 & X.01..841 & X.01..842 & X.01..843 & X.01..844 & X.01..845 & X.01..846 & X.01..847 & X.11..89 & X.01..848 & X.01..849 & X.01..850 & X.01..851 & X.11..90 & X.01..852 & X.01..853 & X.01..854 & X.01..855 & X.01..856 & X.01..857 & X.01..858 & X.01..859 & X.01..860 & X.01..861 & X.11..91 & X.01..862 & X.01..863 & X.01..864 & X.01..865 & X.11..92 & X.01..866 & X.01..867 & X.01..868 & X.11..93 & X.01..869 & X.01..870 & X.01..871 & X.01..872 & X.11..94 & X.01..873 & X.01..874 & X.01..875 & X.01..876 & X.01..877 & X.01..878 & X.01..879 & X.01..880 & X.01..881 & X.01..882 & X.01..883 & X.01..884 & X.11..95 & X.01..885 & X.11..96 & X.01..886 & X.11..97 & X.01..887 & X.01..888 & X.11..98 & X.01..889 & X.11..99 & X.01..890 & X.01..891 & X.11..100 & X.01..892 & X.01..893 & X.11..101 & X.01..894 & X.11..102 & X.01..895 & X.01..896 & X.01..897 & X.01..898 & X.01..899 & X.01..900 & X.01..901 & X.01..902 & X.01..903 & X.01..904 & X.11..103 & X.01..905 & X.01..906 & X.11..104 & X.01..907 & X.11..105 & X.01..908 & X.11..106 & X.01..909 & X.01..910 & X.11..107 & X.01..911 & X.01..912 & X.11..108 & X.01..913 & X.11..109 & X.01..914 & X.01..915 & X.01..916 & X.01..917 & X.01..918 & X.01..919 & X.01..920 & X.01..921 & X.01..922 & X.01..923 & X.01..924 & X.01..925 & X.01..926 & X.01..927 & X.01..928 & X.01..929 & X.01..930 & X.01..931 & X.01..932 & X.01..933 & X.01..934 & X.01..935 & X.01..936 & X.01..937 & X.01..938 & X.01..939 & X.01..940 & X.01..941 & X.01..942 & X.01..943 & X.01..944 & X.01..945 & X.01..946 & X.01..947 & X.01..948 & X.01..949 & X.01..950 & X.01..951 & X.01..952 & X.01..953 & X.01..954 & X.01..955 & X.01..956 & X.01..957 & X.01..958 & X.01..959 & X.01..960 & X.01..961 & X.01..962 & X.01..963 & X.01..964 & X.01..965 & X.01..966 & X.01..967 & X.01..968 & X.01..969 & X.01..970 & X.01..971 & X.01..972 & X.01..973 & X.01..974 & X.01..975 & X.01..976 & X.01..977 & X.01..978 & X.01..979 & X.01..980 & X.01..981 & X.01..982 & X.01..983 & X.01..984 & X.01..985 & X.01..986 & X.01..987 & X.01..988 & X.11..110 & X.01..989 & X.11..111 & X.01..990 & X.01..991 & X.01..992 & X.01..993 & X.01..994 & X.01..995 & X.01..996 & X.01..997 & X.01..998 & X.01..999 & X.01..1000 & X.01..1001 & X.01..1002 & X.01..1003 & X.01..1004 & X.01..1005 & X.01..1006 & X.01..1007 & X.01..1008 & X.01..1009 & X.01..1010 & X.01..1011 & X.01..1012 & X.01..1013 & X.01..1014 & X.01..1015 & X.01..1016 & X.01..1017 & X.01..1018 & X.01..1019 & X.01..1020 & X.01..1021 & X.01..1022 & X.01..1023 & X.01..1024 & X.01..1025 & X.01..1026 & X.01..1027 & X.01..1028 & X.01..1029 & X.01..1030 & X.01..1031 & X.01..1032 & X.01..1033 & X.01..1034 & X.01..1035 & X.01..1036 & X.01..1037 & X.01..1038 & X.01..1039 & X.01..1040 & X.01..1041 & X.01..1042 & X.01..1043 & X.01..1044 & X.01..1045 & X.01..1046 & X.01..1047 & X.01..1048 & X.01..1049 & X.01..1050 & X.01..1051 & X.01..1052 & X.01..1053 & X.01..1054 & X.01..1055 & X.01..1056 & X.01..1057 & X.01..1058 & X.01..1059 & X.01..1060 & X.01..1061 & X.01..1062 & X.01..1063 & X.01..1064 & X.01..1065 & X.01..1066 & X.01..1067 & X.01..1068 & X.01..1069 & X.01..1070 & X.01..1071 & X.01..1072 & X.01..1073 & X.01..1074 & X.01..1075 & X.01..1076 & X.01..1077 & X.01..1078 & X.01..1079 & X.01..1080 & X.01..1081 & X.01..1082 & X.01..1083 & X.01..1084 & X.01..1085 & X.01..1086 & X.01..1087 & X.01..1088 & X.01..1089 & X.01..1090 & X.01..1091 & X.01..1092\\\\\n",
       "\\hline\n",
       "\t1 & 01 & 01 & 01 & 01 & 01 & 01 & 01 & 01 & 01 & 01 & 01 & 01 & 01 & 01 & 01 & 01 & 01 & 01 & 01 & 01 & 01 & 01 & 01 & 01 & 01 & 01 & 01 & 01 & 01 & 01 & 01 & 01 & 01 & 01 & 01 & 01 & 01 & 01 & 01 & 01 & 01 & 01 & 01 & 01 & 01 & 01 & 01 & 01 & 01 & 01 & 01 & 01 & 01 & 01 & 01 & 01 & 01 & 01 & 01 & 01 & 01 & 01 & 01 & 01 & 01 & 01 & 01 & 01 & 01 & 01 & 01 & 01 & 01 & 01 & 01 & 01 & 01 & 01 & 01 & 01 & 01 & 01 & 01 & 01 & 01 & 01 & 01 & 01 & 01 & 01 & 01 & 01 & 01 & 01 & 01 & 01 & 01 & 01 & 01 & 01 & 01 & 01 & 01 & 01 & 01 & 01 & 01 & 01 & 01 & 01 & 01 & 01 & 01 & 01 & 01 & 01 & 01 & 01 & 01 & 01 & 01 & 01 & 01 & 01 & 01 & 11 & 01 & 01 & 11 & 01 & 01 & 11 & 01 & 01 & 11 & 01 & 01 & 11 & 01 & 11 & 01 & 11 & 01 & 01 & 01 & 01 & 01 & 01 & 01 & 01 & 01 & 01 & 01 & 01 & 01 & 01 & 01 & 01 & 01 & 01 & 01 & 01 & 01 & 01 & 01 & 01 & 01 & 01 & 01 & 01 & 01 & 01 & 01 & 01 & 01 & 01 & 01 & 01 & 01 & 01 & 01 & 01 & 01 & 01 & 01 & 01 & 01 & 01 & 01 & 01 & 01 & 01 & 01 & 01 & 01 & 01 & 01 & 01 & 01 & 01 & 01 & 01 & 01 & 01 & 01 & 01 & 01 & 01 & 01 & 01 & 01 & 01 & 01 & 01 & 01 & 01 & 01 & 01 & 01 & 01 & 01 & 01 & 01 & 01 & 01 & 01 & 01 & 01 & 01 & 01 & 01 & 01 & 01 & 01 & 01 & 01 & 01 & 01 & 01 & 01 & 01 & 01 & 01 & 01 & 01 & 01 & 01 & 01 & 01 & 01 & 01 & 01 & 01 & 01 & 01 & 01 & 01 & 01 & 01 & 11 & 01 & 01 & 01 & 01 & 11 & 01 & 01 & 11 & 01 & 01 & 01 & 11 & 01 & 01 & 01 & 01 & 01 & 01 & 01 & 01 & 01 & 01 & 01 & 01 & 01 & 01 & 01 & 01 & 01 & 01 & 01 & 01 & 01 & 01 & 01 & 01 & 01 & 01 & 01 & 06 & 01 & 01 & 01 & 01 & 01 & 01 & 01 & 01 & 01 & 01 & 01 & 01 & 01 & 01 & 01 & 01 & 01 & 01 & 01 & 01 & 01 & 01 & 01 & 01 & 01 & 01 & 01 & 01 & 01 & 01 & 01 & 01 & 01 & 01 & 01 & 01 & 01 & 01 & 01 & 01 & 01 & 01 & 01 & 01 & 01 & 01 & 01 & 01 & 01 & 01 & 01 & 01 & 01 & 01 & 01 & 01 & 01 & 01 & 01 & 01 & 01 & 01 & 01 & 01 & 01 & 01 & 01 & 01 & 01 & 01 & 01 & 01 & 01 & 01 & 01 & 01 & 01 & 01 & 01 & 01 & 01 & 01 & 01 & 01 & 01 & 01 & 01 & 01 & 01 & 01 & 01 & 01 & 01 & 01 & 01 & 01 & 01 & 01 & 01 & 01 & 01 & 01 & 01 & 01 & 01 & 01 & 01 & 01 & 01 & 01 & 01 & 01 & 01 & 01 & 01 & 01 & 01 & 01 & 01 & 01 & 01 & 01 & 01 & 01 & 01 & 01 & 01 & 01 & 01 & 01 & 01 & 01 & 01 & 01 & 01 & 01 & 01 & 01 & 01 & 01 & 01 & 01 & 01 & 01 & 01 & 01 & 01 & 01 & 01 & 01 & 01 & 01 & 01 & 01 & 01 & 01 & 01 & 01 & 01 & 01 & 01 & 01 & 01 & 01 & 01 & 01 & 01 & 01 & 01 & 01 & 01 & 01 & 01 & 01 & 01 & 01 & 01 & 01 & 01 & 01 & 01 & 01 & 01 & 01 & 01 & 01 & 01 & 01 & 01 & 01 & 01 & 01 & 01 & 01 & 01 & 01 & 01 & 01 & 01 & 01 & 01 & 01 & 01 & 01 & 01 & 01 & 01 & 01 & 01 & 01 & 01 & 01 & 01 & 01 & 01 & 01 & 01 & 01 & 01 & 01 & 01 & 01 & 01 & 01 & 01 & 01 & 01 & 01 & 01 & 01 & 11 & 01 & 01 & 01 & 11 & 01 & 11 & 01 & 01 & 01 & 11 & 01 & 01 & 11 & 01 & 01 & 11 & 01 & 11 & 01 & 01 & 11 & 01 & 11 & 01 & 01 & 01 & 01 & 11 & 01 & 01 & 11 & 01 & 01 & 01 & 11 & 01 & 01 & 11 & 01 & 11 & 01 & 11 & 01 & 11 & 01 & 11 & 01 & 11 & 01 & 01 & 11 & 01 & 01 & 11 & 01 & 01 & 11 & 01 & 11 & 01 & 01 & 11 & 01 & 11 & 01 & 11 & 01 & 11 & 01 & 11 & 01 & 01 & 11 & 01 & 11 & 01 & 01 & 11 & 01 & 11 & 01 & 11 & 01 & 01 & 01 & 01 & 01 & 01 & 01 & 01 & 01 & 01 & 01 & 01 & 01 & 11 & 01 & 01 & 11 & 01 & 11 & 01 & 11 & 01 & 01 & 01 & 01 & 11 & 01 & 01 & 01 & 01 & 01 & 01 & 01 & 01 & 01 & 01 & 01 & 01 & 01 & 01 & 01 & 01 & 01 & 01 & 01 & 01 & 11 & 01 & 11 & 01 & 11 & 01 & 11 & 01 & 11 & 01 & 11 & 01 & 11 & 01 & 11 & 01 & 11 & 01 & 01 & 11 & 01 & 11 & 06 & 01 & 11 & 01 & 11 & 01 & 06 & 01 & 11 & 01 & 11 & 01 & 11 & 01 & 11 & 01 & 01 & 01 & 11 & 01 & 11 & 01 & 01 & 11 & 01 & 11 & 01 & 11 & 01 & 11 & 01 & 11 & 01 & 11 & 06 & 01 & 11 & 01 & 11 & 01 & 11 & 01 & 01 & 11 & 01 & 11 & 01 & 11 & 01 & 11 & 01 & 01 & 01 & 11 & 01 & 11 & 01 & 11 & 01 & 11 & 01 & 01 & 01 & 01 & 01 & 01 & 01 & 01 & 01 & 01 & 01 & 01 & 01 & 01 & 01 & 01 & 01 & 01 & 01 & 01 & 01 & 01 & 01 & 01 & 01 & 01 & 01 & 01 & 01 & 01 & 01 & 01 & 01 & 01 & 01 & 01 & 01 & 01 & 01 & 01 & 01 & 01 & 01 & 01 & 01 & 01 & 01 & 01 & 01 & 01 & 01 & 01 & 01 & 01 & 01 & 01 & 01 & 01 & 01 & 01 & 01 & 01 & 01 & 01 & 01 & 01 & 01 & 01 & 01 & 01 & 01 & 01 & 01 & 01 & 01 & 01 & 01 & 01 & 01 & 01 & 01 & 01 & 01 & 01 & 01 & 01 & 01 & 01 & 01 & 01 & 01 & 01 & 01 & 01 & 01 & 01 & 01 & 01 & 01 & 01 & 01 & 01 & 01 & 01 & 01 & 01 & 01 & 01 & 01 & 01 & 01 & 01 & 01 & 01 & 01 & 01 & 01 & 01 & 01 & 01 & 01 & 01 & 01 & 01 & 01 & 01 & 01 & 01 & 01 & 01 & 01 & 01 & 01 & 01 & 01 & 01 & 01 & 01 & 01 & 01 & 01 & 01 & 01 & 01 & 01 & 01 & 01 & 01 & 01 & 01 & 01 & 01 & 01 & 01 & 01 & 01 & 01 & 01 & 01 & 01 & 01 & 01 & 01 & 01 & 01 & 01 & 11 & 01 & 01 & 01 & 01 & 11 & 01 & 01 & 06 & 01 & 01 & 01 & 06 & 01 & 01 & 01 & 01 & 11 & 01 & 01 & 11 & 06 & 01 & 01 & 11 & 01 & 01 & 01 & 01 & 01 & 01 & 01 & 01 & 01 & 01 & 01 & 01 & 11 & 01 & 01 & 01 & 01 & 11 & 01 & 01 & 01 & 01 & 01 & 01 & 01 & 01 & 01 & 01 & 11 & 01 & 01 & 01 & 01 & 11 & 01 & 01 & 01 & 11 & 01 & 01 & 01 & 01 & 11 & 01 & 01 & 01 & 01 & 01 & 01 & 01 & 01 & 01 & 01 & 01 & 01 & 11 & 01 & 11 & 01 & 11 & 01 & 01 & 11 & 01 & 11 & 01 & 01 & 11 & 01 & 01 & 11 & 01 & 11 & 01 & 01 & 01 & 01 & 01 & 01 & 01 & 01 & 01 & 01 & 11 & 01 & 01 & 11 & 01 & 11 & 01 & 11 & 01 & 01 & 11 & 01 & 01 & 11 & 01 & 11 & 01 & 01 & 01 & 01 & 01 & 01 & 01 & 01 & 01 & 01 & 01 & 01 & 01 & 01 & 01 & 01 & 01 & 01 & 01 & 01 & 01 & 01 & 01 & 01 & 01 & 01 & 01 & 01 & 01 & 01 & 01 & 01 & 01 & 01 & 01 & 01 & 01 & 01 & 01 & 01 & 01 & 01 & 01 & 01 & 01 & 01 & 01 & 01 & 01 & 01 & 01 & 01 & 01 & 01 & 01 & 01 & 01 & 01 & 01 & 01 & 01 & 01 & 01 & 01 & 01 & 01 & 01 & 01 & 01 & 01 & 01 & 01 & 01 & 01 & 01 & 11 & 01 & 11 & 01 & 01 & 01 & 01 & 01 & 01 & 01 & 01 & 01 & 01 & 01 & 01 & 01 & 01 & 01 & 01 & 01 & 01 & 01 & 01 & 01 & 01 & 01 & 01 & 01 & 01 & 01 & 01 & 01 & 01 & 01 & 01 & 01 & 01 & 01 & 01 & 01 & 01 & 01 & 01 & 01 & 01 & 01 & 01 & 01 & 01 & 01 & 01 & 01 & 01 & 01 & 01 & 01 & 01 & 01 & 01 & 01 & 01 & 01 & 01 & 01 & 01 & 01 & 01 & 01 & 01 & 01 & 01 & 01 & 01 & 01 & 01 & 01 & 01 & 01 & 01 & 01 & 01 & 01 & 01 & 01 & 01 & 01 & 01 & 01 & 01 & 01 & 01 & 01 & 01 & 01 & 01 & 01 & 01 & 01 & 01 & 01 & 01 & 01 & 01 & 01 & 01 & 01\\\\\n",
       "\\end{tabular}\n"
      ],
      "text/plain": [
       "  X.01. X.01..1 X.01..2 X.01..3 X.01..4 X.01..5 X.01..6 X.01..7 X.01..8 X.01..9\n",
       "1    01      01      01      01      01      01      01      01      01      01\n",
       "  X.01..10 X.01..11 X.01..12 X.01..13 X.01..14 X.01..15 X.01..16 X.01..17\n",
       "1       01       01       01       01       01       01       01       01\n",
       "  X.01..18 X.01..19 X.01..20 X.01..21 X.01..22 X.01..23 X.01..24 X.01..25\n",
       "1       01       01       01       01       01       01       01       01\n",
       "  X.01..26 X.01..27 X.01..28 X.01..29 X.01..30 X.01..31 X.01..32 X.01..33\n",
       "1       01       01       01       01       01       01       01       01\n",
       "  X.01..34 X.01..35 X.01..36 X.01..37 X.01..38 X.01..39 X.01..40 X.01..41\n",
       "1       01       01       01       01       01       01       01       01\n",
       "  X.01..42 X.01..43 X.01..44 X.01..45 X.01..46 X.01..47 X.01..48 X.01..49\n",
       "1       01       01       01       01       01       01       01       01\n",
       "  X.01..50 X.01..51 X.01..52 X.01..53 X.01..54 X.01..55 X.01..56 X.01..57\n",
       "1       01       01       01       01       01       01       01       01\n",
       "  X.01..58 X.01..59 X.01..60 X.01..61 X.01..62 X.01..63 X.01..64 X.01..65\n",
       "1       01       01       01       01       01       01       01       01\n",
       "  X.01..66 X.01..67 X.01..68 X.01..69 X.01..70 X.01..71 X.01..72 X.01..73\n",
       "1       01       01       01       01       01       01       01       01\n",
       "  X.01..74 X.01..75 X.01..76 X.01..77 X.01..78 X.01..79 X.01..80 X.01..81\n",
       "1       01       01       01       01       01       01       01       01\n",
       "  X.01..82 X.01..83 X.01..84 X.01..85 X.01..86 X.01..87 X.01..88 X.01..89\n",
       "1       01       01       01       01       01       01       01       01\n",
       "  X.01..90 X.01..91 X.01..92 X.01..93 X.01..94 X.01..95 X.01..96 X.01..97\n",
       "1       01       01       01       01       01       01       01       01\n",
       "  X.01..98 X.01..99 X.01..100 X.01..101 X.01..102 X.01..103 X.01..104 X.01..105\n",
       "1       01       01        01        01        01        01        01        01\n",
       "  X.01..106 X.01..107 X.01..108 X.01..109 X.01..110 X.01..111 X.01..112\n",
       "1        01        01        01        01        01        01        01\n",
       "  X.01..113 X.01..114 X.01..115 X.01..116 X.01..117 X.01..118 X.01..119\n",
       "1        01        01        01        01        01        01        01\n",
       "  X.01..120 X.01..121 X.01..122 X.01..123 X.01..124 X.11. X.01..125 X.01..126\n",
       "1        01        01        01        01        01    11        01        01\n",
       "  X.11..1 X.01..127 X.01..128 X.11..2 X.01..129 X.01..130 X.11..3 X.01..131\n",
       "1      11        01        01      11        01        01      11        01\n",
       "  X.01..132 X.11..4 X.01..133 X.11..5 X.01..134 X.11..6 X.01..135 X.01..136\n",
       "1        01      11        01      11        01      11        01        01\n",
       "  X.01..137 X.01..138 X.01..139 X.01..140 X.01..141 X.01..142 X.01..143\n",
       "1        01        01        01        01        01        01        01\n",
       "  X.01..144 X.01..145 X.01..146 X.01..147 X.01..148 X.01..149 X.01..150\n",
       "1        01        01        01        01        01        01        01\n",
       "  X.01..151 X.01..152 X.01..153 X.01..154 X.01..155 X.01..156 X.01..157\n",
       "1        01        01        01        01        01        01        01\n",
       "  X.01..158 X.01..159 X.01..160 X.01..161 X.01..162 X.01..163 X.01..164\n",
       "1        01        01        01        01        01        01        01\n",
       "  X.01..165 X.01..166 X.01..167 X.01..168 X.01..169 X.01..170 X.01..171\n",
       "1        01        01        01        01        01        01        01\n",
       "  X.01..172 X.01..173 X.01..174 X.01..175 X.01..176 X.01..177 X.01..178\n",
       "1        01        01        01        01        01        01        01\n",
       "  X.01..179 X.01..180 X.01..181 X.01..182 X.01..183 X.01..184 X.01..185\n",
       "1        01        01        01        01        01        01        01\n",
       "  X.01..186 X.01..187 X.01..188 X.01..189 X.01..190 X.01..191 X.01..192\n",
       "1        01        01        01        01        01        01        01\n",
       "  X.01..193 X.01..194 X.01..195 X.01..196 X.01..197 X.01..198 X.01..199\n",
       "1        01        01        01        01        01        01        01\n",
       "  X.01..200 X.01..201 X.01..202 X.01..203 X.01..204 X.01..205 X.01..206\n",
       "1        01        01        01        01        01        01        01\n",
       "  X.01..207 X.01..208 X.01..209 X.01..210 X.01..211 X.01..212 X.01..213\n",
       "1        01        01        01        01        01        01        01\n",
       "  X.01..214 X.01..215 X.01..216 X.01..217 X.01..218 X.01..219 X.01..220\n",
       "1        01        01        01        01        01        01        01\n",
       "  X.01..221 X.01..222 X.01..223 X.01..224 X.01..225 X.01..226 X.01..227\n",
       "1        01        01        01        01        01        01        01\n",
       "  X.01..228 X.01..229 X.01..230 X.01..231 X.01..232 X.01..233 X.01..234\n",
       "1        01        01        01        01        01        01        01\n",
       "  X.01..235 X.01..236 X.01..237 X.01..238 X.01..239 X.01..240 X.01..241\n",
       "1        01        01        01        01        01        01        01\n",
       "  X.01..242 X.01..243 X.01..244 X.01..245 X.01..246 X.01..247 X.01..248\n",
       "1        01        01        01        01        01        01        01\n",
       "  X.01..249 X.01..250 X.01..251 X.11..7 X.01..252 X.01..253 X.01..254 X.01..255\n",
       "1        01        01        01      11        01        01        01        01\n",
       "  X.11..8 X.01..256 X.01..257 X.11..9 X.01..258 X.01..259 X.01..260 X.11..10\n",
       "1      11        01        01      11        01        01        01       11\n",
       "  X.01..261 X.01..262 X.01..263 X.01..264 X.01..265 X.01..266 X.01..267\n",
       "1        01        01        01        01        01        01        01\n",
       "  X.01..268 X.01..269 X.01..270 X.01..271 X.01..272 X.01..273 X.01..274\n",
       "1        01        01        01        01        01        01        01\n",
       "  X.01..275 X.01..276 X.01..277 X.01..278 X.01..279 X.01..280 X.01..281\n",
       "1        01        01        01        01        01        01        01\n",
       "  X.01..282 X.01..283 X.01..284 X.01..285 X.01..286 X.01..287 X.06. X.01..288\n",
       "1        01        01        01        01        01        01    06        01\n",
       "  X.01..289 X.01..290 X.01..291 X.01..292 X.01..293 X.01..294 X.01..295\n",
       "1        01        01        01        01        01        01        01\n",
       "  X.01..296 X.01..297 X.01..298 X.01..299 X.01..300 X.01..301 X.01..302\n",
       "1        01        01        01        01        01        01        01\n",
       "  X.01..303 X.01..304 X.01..305 X.01..306 X.01..307 X.01..308 X.01..309\n",
       "1        01        01        01        01        01        01        01\n",
       "  X.01..310 X.01..311 X.01..312 X.01..313 X.01..314 X.01..315 X.01..316\n",
       "1        01        01        01        01        01        01        01\n",
       "  X.01..317 X.01..318 X.01..319 X.01..320 X.01..321 X.01..322 X.01..323\n",
       "1        01        01        01        01        01        01        01\n",
       "  X.01..324 X.01..325 X.01..326 X.01..327 X.01..328 X.01..329 X.01..330\n",
       "1        01        01        01        01        01        01        01\n",
       "  X.01..331 X.01..332 X.01..333 X.01..334 X.01..335 X.01..336 X.01..337\n",
       "1        01        01        01        01        01        01        01\n",
       "  X.01..338 X.01..339 X.01..340 X.01..341 X.01..342 X.01..343 X.01..344\n",
       "1        01        01        01        01        01        01        01\n",
       "  X.01..345 X.01..346 X.01..347 X.01..348 X.01..349 X.01..350 X.01..351\n",
       "1        01        01        01        01        01        01        01\n",
       "  X.01..352 X.01..353 X.01..354 X.01..355 X.01..356 X.01..357 X.01..358\n",
       "1        01        01        01        01        01        01        01\n",
       "  X.01..359 X.01..360 X.01..361 X.01..362 X.01..363 X.01..364 X.01..365\n",
       "1        01        01        01        01        01        01        01\n",
       "  X.01..366 X.01..367 X.01..368 X.01..369 X.01..370 X.01..371 X.01..372\n",
       "1        01        01        01        01        01        01        01\n",
       "  X.01..373 X.01..374 X.01..375 X.01..376 X.01..377 X.01..378 X.01..379\n",
       "1        01        01        01        01        01        01        01\n",
       "  X.01..380 X.01..381 X.01..382 X.01..383 X.01..384 X.01..385 X.01..386\n",
       "1        01        01        01        01        01        01        01\n",
       "  X.01..387 X.01..388 X.01..389 X.01..390 X.01..391 X.01..392 X.01..393\n",
       "1        01        01        01        01        01        01        01\n",
       "  X.01..394 X.01..395 X.01..396 X.01..397 X.01..398 X.01..399 X.01..400\n",
       "1        01        01        01        01        01        01        01\n",
       "  X.01..401 X.01..402 X.01..403 X.01..404 X.01..405 X.01..406 X.01..407\n",
       "1        01        01        01        01        01        01        01\n",
       "  X.01..408 X.01..409 X.01..410 X.01..411 X.01..412 X.01..413 X.01..414\n",
       "1        01        01        01        01        01        01        01\n",
       "  X.01..415 X.01..416 X.01..417 X.01..418 X.01..419 X.01..420 X.01..421\n",
       "1        01        01        01        01        01        01        01\n",
       "  X.01..422 X.01..423 X.01..424 X.01..425 X.01..426 X.01..427 X.01..428\n",
       "1        01        01        01        01        01        01        01\n",
       "  X.01..429 X.01..430 X.01..431 X.01..432 X.01..433 X.01..434 X.01..435\n",
       "1        01        01        01        01        01        01        01\n",
       "  X.01..436 X.01..437 X.01..438 X.01..439 X.01..440 X.01..441 X.01..442\n",
       "1        01        01        01        01        01        01        01\n",
       "  X.01..443 X.01..444 X.01..445 X.01..446 X.01..447 X.01..448 X.01..449\n",
       "1        01        01        01        01        01        01        01\n",
       "  X.01..450 X.01..451 X.01..452 X.01..453 X.01..454 X.01..455 X.01..456\n",
       "1        01        01        01        01        01        01        01\n",
       "  X.01..457 X.01..458 X.01..459 X.01..460 X.01..461 X.01..462 X.01..463\n",
       "1        01        01        01        01        01        01        01\n",
       "  X.01..464 X.01..465 X.01..466 X.01..467 X.01..468 X.01..469 X.01..470\n",
       "1        01        01        01        01        01        01        01\n",
       "  X.01..471 X.01..472 X.01..473 X.01..474 X.01..475 X.01..476 X.01..477\n",
       "1        01        01        01        01        01        01        01\n",
       "  X.01..478 X.01..479 X.01..480 X.01..481 X.01..482 X.01..483 X.01..484\n",
       "1        01        01        01        01        01        01        01\n",
       "  X.01..485 X.01..486 X.01..487 X.01..488 X.01..489 X.01..490 X.01..491\n",
       "1        01        01        01        01        01        01        01\n",
       "  X.01..492 X.01..493 X.01..494 X.01..495 X.01..496 X.01..497 X.01..498\n",
       "1        01        01        01        01        01        01        01\n",
       "  X.01..499 X.01..500 X.01..501 X.01..502 X.01..503 X.01..504 X.01..505\n",
       "1        01        01        01        01        01        01        01\n",
       "  X.01..506 X.01..507 X.01..508 X.01..509 X.01..510 X.01..511 X.01..512\n",
       "1        01        01        01        01        01        01        01\n",
       "  X.01..513 X.01..514 X.01..515 X.01..516 X.01..517 X.11..11 X.01..518\n",
       "1        01        01        01        01        01       11        01\n",
       "  X.01..519 X.01..520 X.11..12 X.01..521 X.11..13 X.01..522 X.01..523 X.01..524\n",
       "1        01        01       11        01       11        01        01        01\n",
       "  X.11..14 X.01..525 X.01..526 X.11..15 X.01..527 X.01..528 X.11..16 X.01..529\n",
       "1       11        01        01       11        01        01       11        01\n",
       "  X.11..17 X.01..530 X.01..531 X.11..18 X.01..532 X.11..19 X.01..533 X.01..534\n",
       "1       11        01        01       11        01       11        01        01\n",
       "  X.01..535 X.01..536 X.11..20 X.01..537 X.01..538 X.11..21 X.01..539 X.01..540\n",
       "1        01        01       11        01        01       11        01        01\n",
       "  X.01..541 X.11..22 X.01..542 X.01..543 X.11..23 X.01..544 X.11..24 X.01..545\n",
       "1        01       11        01        01       11        01       11        01\n",
       "  X.11..25 X.01..546 X.11..26 X.01..547 X.11..27 X.01..548 X.11..28 X.01..549\n",
       "1       11        01       11        01       11        01       11        01\n",
       "  X.01..550 X.11..29 X.01..551 X.01..552 X.11..30 X.01..553 X.01..554 X.11..31\n",
       "1        01       11        01        01       11        01        01       11\n",
       "  X.01..555 X.11..32 X.01..556 X.01..557 X.11..33 X.01..558 X.11..34 X.01..559\n",
       "1        01       11        01        01       11        01       11        01\n",
       "  X.11..35 X.01..560 X.11..36 X.01..561 X.11..37 X.01..562 X.01..563 X.11..38\n",
       "1       11        01       11        01       11        01        01       11\n",
       "  X.01..564 X.11..39 X.01..565 X.01..566 X.11..40 X.01..567 X.11..41 X.01..568\n",
       "1        01       11        01        01       11        01       11        01\n",
       "  X.11..42 X.01..569 X.01..570 X.01..571 X.01..572 X.01..573 X.01..574\n",
       "1       11        01        01        01        01        01        01\n",
       "  X.01..575 X.01..576 X.01..577 X.01..578 X.01..579 X.01..580 X.01..581\n",
       "1        01        01        01        01        01        01        01\n",
       "  X.11..43 X.01..582 X.01..583 X.11..44 X.01..584 X.11..45 X.01..585 X.11..46\n",
       "1       11        01        01       11        01       11        01       11\n",
       "  X.01..586 X.01..587 X.01..588 X.01..589 X.11..47 X.01..590 X.01..591\n",
       "1        01        01        01        01       11        01        01\n",
       "  X.01..592 X.01..593 X.01..594 X.01..595 X.01..596 X.01..597 X.01..598\n",
       "1        01        01        01        01        01        01        01\n",
       "  X.01..599 X.01..600 X.01..601 X.01..602 X.01..603 X.01..604 X.01..605\n",
       "1        01        01        01        01        01        01        01\n",
       "  X.01..606 X.01..607 X.01..608 X.01..609 X.11..48 X.01..610 X.11..49 X.01..611\n",
       "1        01        01        01        01       11        01       11        01\n",
       "  X.11..50 X.01..612 X.11..51 X.01..613 X.11..52 X.01..614 X.11..53 X.01..615\n",
       "1       11        01       11        01       11        01       11        01\n",
       "  X.11..54 X.01..616 X.11..55 X.01..617 X.11..56 X.01..618 X.01..619 X.11..57\n",
       "1       11        01       11        01       11        01        01       11\n",
       "  X.01..620 X.11..58 X.06..1 X.01..621 X.11..59 X.01..622 X.11..60 X.01..623\n",
       "1        01       11      06        01       11        01       11        01\n",
       "  X.06..2 X.01..624 X.11..61 X.01..625 X.11..62 X.01..626 X.11..63 X.01..627\n",
       "1      06        01       11        01       11        01       11        01\n",
       "  X.11..64 X.01..628 X.01..629 X.01..630 X.11..65 X.01..631 X.11..66 X.01..632\n",
       "1       11        01        01        01       11        01       11        01\n",
       "  X.01..633 X.11..67 X.01..634 X.11..68 X.01..635 X.11..69 X.01..636 X.11..70\n",
       "1        01       11        01       11        01       11        01       11\n",
       "  X.01..637 X.11..71 X.01..638 X.11..72 X.06..3 X.01..639 X.11..73 X.01..640\n",
       "1        01       11        01       11      06        01       11        01\n",
       "  X.11..74 X.01..641 X.11..75 X.01..642 X.01..643 X.11..76 X.01..644 X.11..77\n",
       "1       11        01       11        01        01       11        01       11\n",
       "  X.01..645 X.11..78 X.01..646 X.11..79 X.01..647 X.01..648 X.01..649 X.11..80\n",
       "1        01       11        01       11        01        01        01       11\n",
       "  X.01..650 X.11..81 X.01..651 X.11..82 X.01..652 X.11..83 X.01..653 X.01..654\n",
       "1        01       11        01       11        01       11        01        01\n",
       "  X.01..655 X.01..656 X.01..657 X.01..658 X.01..659 X.01..660 X.01..661\n",
       "1        01        01        01        01        01        01        01\n",
       "  X.01..662 X.01..663 X.01..664 X.01..665 X.01..666 X.01..667 X.01..668\n",
       "1        01        01        01        01        01        01        01\n",
       "  X.01..669 X.01..670 X.01..671 X.01..672 X.01..673 X.01..674 X.01..675\n",
       "1        01        01        01        01        01        01        01\n",
       "  X.01..676 X.01..677 X.01..678 X.01..679 X.01..680 X.01..681 X.01..682\n",
       "1        01        01        01        01        01        01        01\n",
       "  X.01..683 X.01..684 X.01..685 X.01..686 X.01..687 X.01..688 X.01..689\n",
       "1        01        01        01        01        01        01        01\n",
       "  X.01..690 X.01..691 X.01..692 X.01..693 X.01..694 X.01..695 X.01..696\n",
       "1        01        01        01        01        01        01        01\n",
       "  X.01..697 X.01..698 X.01..699 X.01..700 X.01..701 X.01..702 X.01..703\n",
       "1        01        01        01        01        01        01        01\n",
       "  X.01..704 X.01..705 X.01..706 X.01..707 X.01..708 X.01..709 X.01..710\n",
       "1        01        01        01        01        01        01        01\n",
       "  X.01..711 X.01..712 X.01..713 X.01..714 X.01..715 X.01..716 X.01..717\n",
       "1        01        01        01        01        01        01        01\n",
       "  X.01..718 X.01..719 X.01..720 X.01..721 X.01..722 X.01..723 X.01..724\n",
       "1        01        01        01        01        01        01        01\n",
       "  X.01..725 X.01..726 X.01..727 X.01..728 X.01..729 X.01..730 X.01..731\n",
       "1        01        01        01        01        01        01        01\n",
       "  X.01..732 X.01..733 X.01..734 X.01..735 X.01..736 X.01..737 X.01..738\n",
       "1        01        01        01        01        01        01        01\n",
       "  X.01..739 X.01..740 X.01..741 X.01..742 X.01..743 X.01..744 X.01..745\n",
       "1        01        01        01        01        01        01        01\n",
       "  X.01..746 X.01..747 X.01..748 X.01..749 X.01..750 X.01..751 X.01..752\n",
       "1        01        01        01        01        01        01        01\n",
       "  X.01..753 X.01..754 X.01..755 X.01..756 X.01..757 X.01..758 X.01..759\n",
       "1        01        01        01        01        01        01        01\n",
       "  X.01..760 X.01..761 X.01..762 X.01..763 X.01..764 X.01..765 X.01..766\n",
       "1        01        01        01        01        01        01        01\n",
       "  X.01..767 X.01..768 X.01..769 X.01..770 X.01..771 X.01..772 X.01..773\n",
       "1        01        01        01        01        01        01        01\n",
       "  X.01..774 X.01..775 X.01..776 X.01..777 X.01..778 X.01..779 X.01..780\n",
       "1        01        01        01        01        01        01        01\n",
       "  X.01..781 X.01..782 X.01..783 X.01..784 X.01..785 X.01..786 X.01..787\n",
       "1        01        01        01        01        01        01        01\n",
       "  X.01..788 X.01..789 X.01..790 X.01..791 X.01..792 X.01..793 X.01..794\n",
       "1        01        01        01        01        01        01        01\n",
       "  X.01..795 X.01..796 X.01..797 X.01..798 X.01..799 X.01..800 X.01..801\n",
       "1        01        01        01        01        01        01        01\n",
       "  X.01..802 X.01..803 X.01..804 X.01..805 X.01..806 X.01..807 X.01..808\n",
       "1        01        01        01        01        01        01        01\n",
       "  X.01..809 X.01..810 X.01..811 X.01..812 X.01..813 X.01..814 X.01..815\n",
       "1        01        01        01        01        01        01        01\n",
       "  X.01..816 X.01..817 X.01..818 X.11..84 X.01..819 X.01..820 X.01..821\n",
       "1        01        01        01       11        01        01        01\n",
       "  X.01..822 X.11..85 X.01..823 X.01..824 X.06..4 X.01..825 X.01..826 X.01..827\n",
       "1        01       11        01        01      06        01        01        01\n",
       "  X.06..5 X.01..828 X.01..829 X.01..830 X.01..831 X.11..86 X.01..832 X.01..833\n",
       "1      06        01        01        01        01       11        01        01\n",
       "  X.11..87 X.06..6 X.01..834 X.01..835 X.11..88 X.01..836 X.01..837 X.01..838\n",
       "1       11      06        01        01       11        01        01        01\n",
       "  X.01..839 X.01..840 X.01..841 X.01..842 X.01..843 X.01..844 X.01..845\n",
       "1        01        01        01        01        01        01        01\n",
       "  X.01..846 X.01..847 X.11..89 X.01..848 X.01..849 X.01..850 X.01..851 X.11..90\n",
       "1        01        01       11        01        01        01        01       11\n",
       "  X.01..852 X.01..853 X.01..854 X.01..855 X.01..856 X.01..857 X.01..858\n",
       "1        01        01        01        01        01        01        01\n",
       "  X.01..859 X.01..860 X.01..861 X.11..91 X.01..862 X.01..863 X.01..864\n",
       "1        01        01        01       11        01        01        01\n",
       "  X.01..865 X.11..92 X.01..866 X.01..867 X.01..868 X.11..93 X.01..869 X.01..870\n",
       "1        01       11        01        01        01       11        01        01\n",
       "  X.01..871 X.01..872 X.11..94 X.01..873 X.01..874 X.01..875 X.01..876\n",
       "1        01        01       11        01        01        01        01\n",
       "  X.01..877 X.01..878 X.01..879 X.01..880 X.01..881 X.01..882 X.01..883\n",
       "1        01        01        01        01        01        01        01\n",
       "  X.01..884 X.11..95 X.01..885 X.11..96 X.01..886 X.11..97 X.01..887 X.01..888\n",
       "1        01       11        01       11        01       11        01        01\n",
       "  X.11..98 X.01..889 X.11..99 X.01..890 X.01..891 X.11..100 X.01..892 X.01..893\n",
       "1       11        01       11        01        01        11        01        01\n",
       "  X.11..101 X.01..894 X.11..102 X.01..895 X.01..896 X.01..897 X.01..898\n",
       "1        11        01        11        01        01        01        01\n",
       "  X.01..899 X.01..900 X.01..901 X.01..902 X.01..903 X.01..904 X.11..103\n",
       "1        01        01        01        01        01        01        11\n",
       "  X.01..905 X.01..906 X.11..104 X.01..907 X.11..105 X.01..908 X.11..106\n",
       "1        01        01        11        01        11        01        11\n",
       "  X.01..909 X.01..910 X.11..107 X.01..911 X.01..912 X.11..108 X.01..913\n",
       "1        01        01        11        01        01        11        01\n",
       "  X.11..109 X.01..914 X.01..915 X.01..916 X.01..917 X.01..918 X.01..919\n",
       "1        11        01        01        01        01        01        01\n",
       "  X.01..920 X.01..921 X.01..922 X.01..923 X.01..924 X.01..925 X.01..926\n",
       "1        01        01        01        01        01        01        01\n",
       "  X.01..927 X.01..928 X.01..929 X.01..930 X.01..931 X.01..932 X.01..933\n",
       "1        01        01        01        01        01        01        01\n",
       "  X.01..934 X.01..935 X.01..936 X.01..937 X.01..938 X.01..939 X.01..940\n",
       "1        01        01        01        01        01        01        01\n",
       "  X.01..941 X.01..942 X.01..943 X.01..944 X.01..945 X.01..946 X.01..947\n",
       "1        01        01        01        01        01        01        01\n",
       "  X.01..948 X.01..949 X.01..950 X.01..951 X.01..952 X.01..953 X.01..954\n",
       "1        01        01        01        01        01        01        01\n",
       "  X.01..955 X.01..956 X.01..957 X.01..958 X.01..959 X.01..960 X.01..961\n",
       "1        01        01        01        01        01        01        01\n",
       "  X.01..962 X.01..963 X.01..964 X.01..965 X.01..966 X.01..967 X.01..968\n",
       "1        01        01        01        01        01        01        01\n",
       "  X.01..969 X.01..970 X.01..971 X.01..972 X.01..973 X.01..974 X.01..975\n",
       "1        01        01        01        01        01        01        01\n",
       "  X.01..976 X.01..977 X.01..978 X.01..979 X.01..980 X.01..981 X.01..982\n",
       "1        01        01        01        01        01        01        01\n",
       "  X.01..983 X.01..984 X.01..985 X.01..986 X.01..987 X.01..988 X.11..110\n",
       "1        01        01        01        01        01        01        11\n",
       "  X.01..989 X.11..111 X.01..990 X.01..991 X.01..992 X.01..993 X.01..994\n",
       "1        01        11        01        01        01        01        01\n",
       "  X.01..995 X.01..996 X.01..997 X.01..998 X.01..999 X.01..1000 X.01..1001\n",
       "1        01        01        01        01        01         01         01\n",
       "  X.01..1002 X.01..1003 X.01..1004 X.01..1005 X.01..1006 X.01..1007 X.01..1008\n",
       "1         01         01         01         01         01         01         01\n",
       "  X.01..1009 X.01..1010 X.01..1011 X.01..1012 X.01..1013 X.01..1014 X.01..1015\n",
       "1         01         01         01         01         01         01         01\n",
       "  X.01..1016 X.01..1017 X.01..1018 X.01..1019 X.01..1020 X.01..1021 X.01..1022\n",
       "1         01         01         01         01         01         01         01\n",
       "  X.01..1023 X.01..1024 X.01..1025 X.01..1026 X.01..1027 X.01..1028 X.01..1029\n",
       "1         01         01         01         01         01         01         01\n",
       "  X.01..1030 X.01..1031 X.01..1032 X.01..1033 X.01..1034 X.01..1035 X.01..1036\n",
       "1         01         01         01         01         01         01         01\n",
       "  X.01..1037 X.01..1038 X.01..1039 X.01..1040 X.01..1041 X.01..1042 X.01..1043\n",
       "1         01         01         01         01         01         01         01\n",
       "  X.01..1044 X.01..1045 X.01..1046 X.01..1047 X.01..1048 X.01..1049 X.01..1050\n",
       "1         01         01         01         01         01         01         01\n",
       "  X.01..1051 X.01..1052 X.01..1053 X.01..1054 X.01..1055 X.01..1056 X.01..1057\n",
       "1         01         01         01         01         01         01         01\n",
       "  X.01..1058 X.01..1059 X.01..1060 X.01..1061 X.01..1062 X.01..1063 X.01..1064\n",
       "1         01         01         01         01         01         01         01\n",
       "  X.01..1065 X.01..1066 X.01..1067 X.01..1068 X.01..1069 X.01..1070 X.01..1071\n",
       "1         01         01         01         01         01         01         01\n",
       "  X.01..1072 X.01..1073 X.01..1074 X.01..1075 X.01..1076 X.01..1077 X.01..1078\n",
       "1         01         01         01         01         01         01         01\n",
       "  X.01..1079 X.01..1080 X.01..1081 X.01..1082 X.01..1083 X.01..1084 X.01..1085\n",
       "1         01         01         01         01         01         01         01\n",
       "  X.01..1086 X.01..1087 X.01..1088 X.01..1089 X.01..1090 X.01..1091 X.01..1092\n",
       "1         01         01         01         01         01         01         01"
      ]
     },
     "execution_count": 6,
     "metadata": {},
     "output_type": "execute_result"
    },
    {
     "data": {
      "text/plain": [
       "\n",
       "  01   11   06 \n",
       "1093  112    7 "
      ]
     },
     "execution_count": 6,
     "metadata": {},
     "output_type": "execute_result"
    }
   ],
   "source": [
    "# cell #5\n",
    "unique(sampleType)\n",
    "# extracts how many unique objects there are \n",
    "\n",
    "tab <- table(unlist(sampleType))\n",
    "tab\n",
    "# count how many of each type\n",
    "#   01   06   11 \n",
    "#  1093   7  112 "
   ]
  },
  {
   "cell_type": "markdown",
   "metadata": {},
   "source": [
    "We are going to associate a class of '1' for the tumor samples and of '0' for the normal samples. We check that we have 112 normals (class '0') and 1100 tumors (class '1').\n",
    "We do this for all the types by applying with 'lapply' the same process to all the types in 'samp'."
   ]
  },
  {
   "cell_type": "code",
   "execution_count": 13,
   "metadata": {
    "collapsed": false
   },
   "outputs": [
    {
     "data": {
      "text/html": [
       "<ol class=list-inline>\n",
       "\t<li>1</li>\n",
       "\t<li>1212</li>\n",
       "</ol>\n"
      ],
      "text/latex": [
       "\\begin{enumerate*}\n",
       "\\item 1\n",
       "\\item 1212\n",
       "\\end{enumerate*}\n"
      ],
      "text/markdown": [
       "1. 1\n",
       "2. 1212\n",
       "\n",
       "\n"
      ],
      "text/plain": [
       "[1]    1 1212"
      ]
     },
     "execution_count": 13,
     "metadata": {},
     "output_type": "execute_result"
    },
    {
     "data": {
      "text/plain": [
       "\n",
       "   0    1 \n",
       " 112 1100 "
      ]
     },
     "execution_count": 13,
     "metadata": {},
     "output_type": "execute_result"
    }
   ],
   "source": [
    "# cell #6\n",
    "sampClass <- lapply(samp, function(t) (if (t < 10) return(\"1\") else return(\"0\")))\n",
    "mrnaClass <- as.data.frame(sampClass)\n",
    "dim(mrnaClass)\n",
    "table(unlist(sampClass))\n",
    "#   0    1 \n",
    "# 112 1100 "
   ]
  },
  {
   "cell_type": "markdown",
   "metadata": {},
   "source": [
    "Since in some cases we may need the class as a number (and not a character), we create as well a list of classes as numbers."
   ]
  },
  {
   "cell_type": "code",
   "execution_count": 14,
   "metadata": {
    "collapsed": true
   },
   "outputs": [],
   "source": [
    "# cell #7\n",
    "sampClassNum <- lapply(samp, function(t) (if (t < 10) return(1) else return(0)))\n",
    "mrnaClassNum <- as.data.frame(sampClassNum) "
   ]
  },
  {
   "cell_type": "markdown",
   "metadata": {},
   "source": [
    "Here I provide a function that calculates a ranking of features (genes in this case) with the BSS/WSS method. You do not need to understand all the details - only to execute the following cell. This will make the bssWssFast function available for later processing."
   ]
  },
  {
   "cell_type": "code",
   "execution_count": 25,
   "metadata": {
    "collapsed": true
   },
   "outputs": [],
   "source": [
    "# cell #8\n",
    "bssWssFast <- function (X, givenClassArr, numClass=2)\n",
    "# between squares / within square feature selection\n",
    "{\n",
    "\tclassVec <- matrix(0, numClass, length(givenClassArr))\n",
    "\tfor (k in 1:numClass) {\n",
    "\t\ttemp <- rep(0, length(givenClassArr))\n",
    "\t\ttemp[givenClassArr == (k - 1)] <- 1\n",
    "\t\tclassVec[k, ] <- temp\n",
    "\t}\n",
    "\tclassMeanArr <- rep(0, numClass)\n",
    "\tratio <- rep(0, ncol(X))\n",
    "\tfor (j in 1:ncol(X)) {\n",
    "\t\toverallMean <- sum(X[, j]) / length(X[, j])\n",
    "\t\tfor (k in 1:numClass) {\n",
    "\t\t\tclassMeanArr[k] <- \n",
    "\t\t\t\tsum(classVec[k, ] * X[, j]) / sum(classVec[k, ])\n",
    "\t\t}\n",
    "\t  classMeanVec <- classMeanArr[givenClassArr + 1]\n",
    "\t  bss <- sum((classMeanVec - overallMean)^2)\n",
    "\t  wss <- sum((X[, j] - classMeanVec)^2)\n",
    "\t  ratio[j] <- bss/wss\n",
    "\t}\n",
    "      sort(ratio, decreasing = TRUE, index = TRUE)\n",
    "}"
   ]
  },
  {
   "cell_type": "markdown",
   "metadata": {},
   "source": [
    "## Feature selection with BSS/WSS\n",
    "\n",
    "We are now ready to select features. \n",
    "\n",
    "We invoke the bssWSSFast function by passing to it the dataframe of gene expressions 'mrnaNorm' (all numeric, after excluding the first column, which is not numeric since it contains gene names) and another dataframe of classes associated with each sample. Note that we also transpose the 'mrnaNprm' dataframe because we watb to select genes, therefore the genes need to be feature / columns, while in 'mrnaNorm' genes are rows. By transposing 'mrnaNorm' and excluding the first column, we obtain a dataframe that looks like this ('t(mrnaNorm[, -1])'):\n",
    "\n",
    "             gene1           gene2            gene3        ...\n",
    "    \n",
    "patient1   expression 1     expression 2      expression3    ...\n",
    "\n",
    "patient2   expression 1     expression 2      expression3    ...\n",
    "\n",
    "\n",
    "bssWssFast will return a dataframe with the features/genes column numbers ranked by decreasing order of importance according to bssWss ratio. \n",
    "\n",
    "bss$ix[1] refers to column 'ix' of bss, and could also be expressed by bss[,ix][1]. column 'ix' contains a list of indexes in 'mrnaNorm'.\n"
   ]
  },
  {
   "cell_type": "code",
   "execution_count": null,
   "metadata": {
    "collapsed": false
   },
   "outputs": [],
   "source": [
    "# cell #9\n",
    "bss <- bssWssFast(t(mrnaNorm[, -1]), t(mrnaClassNum), 2)\n",
    "# returns a list with two elements: a list of bss/wss ratios in decreasing order bss[1] and a list of features bss[2]\n",
    "\n",
    "bss$ix[1:51]\n",
    "# show list of 50 ranked gene indexes"
   ]
  },
  {
   "cell_type": "markdown",
   "metadata": {},
   "source": [
    "We can then list the genes by their name as provided in the 'mrnaNorm' dataset, where the first column is the list of gene names. The names have two codes separated by character '|':\n",
    "\n",
    "HUGO code\n",
    "Entrez code\n",
    "\n",
    "For example, FHL1|2273 is gene with HUGO code FHL1 and Entrez code 2273.\n",
    "\n",
    "We will continue working on these genes in a future module."
   ]
  },
  {
   "cell_type": "code",
   "execution_count": 24,
   "metadata": {
    "collapsed": false
   },
   "outputs": [
    {
     "data": {
      "text/html": [
       "<ol class=list-inline>\n",
       "\t<li>FHL1|2273</li>\n",
       "\t<li>ADAMTS4|9507</li>\n",
       "\t<li>ABAT|18</li>\n",
       "\t<li>PAG1|55824</li>\n",
       "\t<li>ARHGAP1|392</li>\n",
       "\t<li>TP53TG3B|729355</li>\n",
       "\t<li>SCRN3|79634</li>\n",
       "\t<li>TIE1|7075</li>\n",
       "\t<li>SNRPA|6626</li>\n",
       "\t<li>SCCPDH|51097</li>\n",
       "\t<li>PCYT1B|9468</li>\n",
       "\t<li>DSE|29940</li>\n",
       "\t<li>LGI4|163175</li>\n",
       "\t<li>LIX1L|128077</li>\n",
       "\t<li>LCE3D|84648</li>\n",
       "\t<li>POTEE|445582</li>\n",
       "\t<li>GIMAP2|26157</li>\n",
       "\t<li>CABYR|26256</li>\n",
       "\t<li>PLGLA|285189</li>\n",
       "\t<li>LRRC57|255252</li>\n",
       "\t<li>C21orf33|8209</li>\n",
       "\t<li>CDC14A|8556</li>\n",
       "\t<li>CD300LF|146722</li>\n",
       "\t<li>CEP57|9702</li>\n",
       "\t<li>MAGEC2|51438</li>\n",
       "\t<li>LGALS3|3958</li>\n",
       "\t<li>CAT|847</li>\n",
       "\t<li>LOC647979|647979</li>\n",
       "\t<li>ABCA8|10351</li>\n",
       "\t<li>PPIL3|53938</li>\n",
       "\t<li>EFCAB1|79645</li>\n",
       "\t<li>CCDC45|90799</li>\n",
       "\t<li>ABCA5|23461</li>\n",
       "\t<li>CAV1|857</li>\n",
       "\t<li>TP53I3|9540</li>\n",
       "\t<li>ADRB1|153</li>\n",
       "\t<li>SOD1|6647</li>\n",
       "\t<li>LDLRAP1|26119</li>\n",
       "\t<li>LYPLA1|10434</li>\n",
       "\t<li>KLHL10|317719</li>\n",
       "\t<li>HLA-DPB1|3115</li>\n",
       "\t<li>SGCG|6445</li>\n",
       "\t<li>MLL2|8085</li>\n",
       "\t<li>FGD4|121512</li>\n",
       "\t<li>CD33|945</li>\n",
       "\t<li>BMS1|9790</li>\n",
       "\t<li>MARCKSL1|65108</li>\n",
       "\t<li>BTNL8|79908</li>\n",
       "\t<li>SS18L2|51188</li>\n",
       "\t<li>ABCA7|10347</li>\n",
       "\t<li>PAFAH1B3|5050</li>\n",
       "</ol>\n"
      ],
      "text/latex": [
       "\\begin{enumerate*}\n",
       "\\item FHL1|2273\n",
       "\\item ADAMTS4|9507\n",
       "\\item ABAT|18\n",
       "\\item PAG1|55824\n",
       "\\item ARHGAP1|392\n",
       "\\item TP53TG3B|729355\n",
       "\\item SCRN3|79634\n",
       "\\item TIE1|7075\n",
       "\\item SNRPA|6626\n",
       "\\item SCCPDH|51097\n",
       "\\item PCYT1B|9468\n",
       "\\item DSE|29940\n",
       "\\item LGI4|163175\n",
       "\\item LIX1L|128077\n",
       "\\item LCE3D|84648\n",
       "\\item POTEE|445582\n",
       "\\item GIMAP2|26157\n",
       "\\item CABYR|26256\n",
       "\\item PLGLA|285189\n",
       "\\item LRRC57|255252\n",
       "\\item C21orf33|8209\n",
       "\\item CDC14A|8556\n",
       "\\item CD300LF|146722\n",
       "\\item CEP57|9702\n",
       "\\item MAGEC2|51438\n",
       "\\item LGALS3|3958\n",
       "\\item CAT|847\n",
       "\\item LOC647979|647979\n",
       "\\item ABCA8|10351\n",
       "\\item PPIL3|53938\n",
       "\\item EFCAB1|79645\n",
       "\\item CCDC45|90799\n",
       "\\item ABCA5|23461\n",
       "\\item CAV1|857\n",
       "\\item TP53I3|9540\n",
       "\\item ADRB1|153\n",
       "\\item SOD1|6647\n",
       "\\item LDLRAP1|26119\n",
       "\\item LYPLA1|10434\n",
       "\\item KLHL10|317719\n",
       "\\item HLA-DPB1|3115\n",
       "\\item SGCG|6445\n",
       "\\item MLL2|8085\n",
       "\\item FGD4|121512\n",
       "\\item CD33|945\n",
       "\\item BMS1|9790\n",
       "\\item MARCKSL1|65108\n",
       "\\item BTNL8|79908\n",
       "\\item SS18L2|51188\n",
       "\\item ABCA7|10347\n",
       "\\item PAFAH1B3|5050\n",
       "\\end{enumerate*}\n"
      ],
      "text/markdown": [
       "1. FHL1|2273\n",
       "2. ADAMTS4|9507\n",
       "3. ABAT|18\n",
       "4. PAG1|55824\n",
       "5. ARHGAP1|392\n",
       "6. TP53TG3B|729355\n",
       "7. SCRN3|79634\n",
       "8. TIE1|7075\n",
       "9. SNRPA|6626\n",
       "10. SCCPDH|51097\n",
       "11. PCYT1B|9468\n",
       "12. DSE|29940\n",
       "13. LGI4|163175\n",
       "14. LIX1L|128077\n",
       "15. LCE3D|84648\n",
       "16. POTEE|445582\n",
       "17. GIMAP2|26157\n",
       "18. CABYR|26256\n",
       "19. PLGLA|285189\n",
       "20. LRRC57|255252\n",
       "21. C21orf33|8209\n",
       "22. CDC14A|8556\n",
       "23. CD300LF|146722\n",
       "24. CEP57|9702\n",
       "25. MAGEC2|51438\n",
       "26. LGALS3|3958\n",
       "27. CAT|847\n",
       "28. LOC647979|647979\n",
       "29. ABCA8|10351\n",
       "30. PPIL3|53938\n",
       "31. EFCAB1|79645\n",
       "32. CCDC45|90799\n",
       "33. ABCA5|23461\n",
       "34. CAV1|857\n",
       "35. TP53I3|9540\n",
       "36. ADRB1|153\n",
       "37. SOD1|6647\n",
       "38. LDLRAP1|26119\n",
       "39. LYPLA1|10434\n",
       "40. KLHL10|317719\n",
       "41. HLA-DPB1|3115\n",
       "42. SGCG|6445\n",
       "43. MLL2|8085\n",
       "44. FGD4|121512\n",
       "45. CD33|945\n",
       "46. BMS1|9790\n",
       "47. MARCKSL1|65108\n",
       "48. BTNL8|79908\n",
       "49. SS18L2|51188\n",
       "50. ABCA7|10347\n",
       "51. PAFAH1B3|5050\n",
       "\n",
       "\n"
      ],
      "text/plain": [
       " [1] FHL1|2273        ADAMTS4|9507     ABAT|18          PAG1|55824      \n",
       " [5] ARHGAP1|392      TP53TG3B|729355  SCRN3|79634      TIE1|7075       \n",
       " [9] SNRPA|6626       SCCPDH|51097     PCYT1B|9468      DSE|29940       \n",
       "[13] LGI4|163175      LIX1L|128077     LCE3D|84648      POTEE|445582    \n",
       "[17] GIMAP2|26157     CABYR|26256      PLGLA|285189     LRRC57|255252   \n",
       "[21] C21orf33|8209    CDC14A|8556      CD300LF|146722   CEP57|9702      \n",
       "[25] MAGEC2|51438     LGALS3|3958      CAT|847          LOC647979|647979\n",
       "[29] ABCA8|10351      PPIL3|53938      EFCAB1|79645     CCDC45|90799    \n",
       "[33] ABCA5|23461      CAV1|857         TP53I3|9540      ADRB1|153       \n",
       "[37] SOD1|6647        LDLRAP1|26119    LYPLA1|10434     KLHL10|317719   \n",
       "[41] HLA-DPB1|3115    SGCG|6445        MLL2|8085        FGD4|121512     \n",
       "[45] CD33|945         BMS1|9790        MARCKSL1|65108   BTNL8|79908     \n",
       "[49] SS18L2|51188     ABCA7|10347      PAFAH1B3|5050   \n",
       "20531 Levels: ?|100130426 ?|100133144 ?|100134869 ?|10357 ?|10431 ... ZZZ3|26009"
      ]
     },
     "execution_count": 24,
     "metadata": {},
     "output_type": "execute_result"
    }
   ],
   "source": [
    "# cell #10\n",
    "genes <- mrnaNorm[bss$ix[1:51],1]\n",
    "genes\n",
    "# show list of 50 tanked gene names\n",
    "# [1] FHL1|2273        ADAMTS4|9507     ABAT|18          PAG1|55824       ARHGAP1|392     \n",
    "# [6] TP53TG3B|729355  SCRN3|79634      TIE1|7075        SNRPA|6626       SCCPDH|51097    \n",
    "#[11] PCYT1B|9468      DSE|29940        LGI4|163175      LIX1L|128077     LCE3D|84648     \n",
    "#[16] POTEE|445582     GIMAP2|26157     CABYR|26256      PLGLA|285189     LRRC57|255252   \n",
    "#[21] C21orf33|8209    CDC14A|8556      CD300LF|146722   CEP57|9702       MAGEC2|51438    \n",
    "#[26] LGALS3|3958      CAT|847          LOC647979|647979 ABCA8|10351      PPIL3|53938     \n",
    "#[31] EFCAB1|79645     CCDC45|90799     ABCA5|23461      CAV1|857         TP53I3|9540     \n",
    "#[36] ADRB1|153        SOD1|6647        LDLRAP1|26119    LYPLA1|10434     KLHL10|317719   \n",
    "#[41] HLA-DPB1|3115    SGCG|6445        MLL2|8085        FGD4|121512      CD33|945        \n",
    "#[46] BMS1|9790        MARCKSL1|65108   BTNL8|79908      SS18L2|51188     ABCA7|10347   \n"
   ]
  },
  {
   "cell_type": "markdown",
   "metadata": {},
   "source": [
    "## Heatmap\n",
    "\n",
    "Heatmaps are visualizations that represent the level of a variable across different samples or groups using different colors to represent levels.\n",
    "\n",
    "In this particular example, we would like to represent the different expression levels of some of the genes selected above between normal and tumor samples. \n",
    "\n",
    "We will represent tumor samples in red and normals as blue at the top.\n",
    "\n",
    "First we are going to select the top 100 genes ranked, and associate the class values 0/1 in a row at the bottom of mrnaSetClass.\n",
    "\n",
    "Because selection by column is easier, we transpose the dataframe (inverse tows and columns).\n",
    "\n",
    "We then separate the normals and the tumors in two datasets, selecting only 112 tumors so that we have an equal number of normals and tumors.\n",
    "\n",
    "We then combine the two sets together.\n",
    "\n",
    "We draw the heatmap by selecting several options:\n",
    " \n",
    "1) we choose a color scheme as red for tumors and blue for normals for the top bar.\n",
    "\n",
    "2) we apply the color scheme to the classes in the 'both' dataframe.\n",
    "\n",
    "3) we draw the heatmp with options 'scale = \"row\"' to normalize the rows (gene values), 'col=topo.colors(100)' as a color scheme for the heatmap cells, and 'ColSideColors=groupColors' to specify the colors chosen for the side bars.\n",
    "\n",
    "What we find on the heatmap is that it finds several groupins in the patients, mostly two groups of normals, and two groups of tumors. So this is interesting. We can also see some gene expressions characterizing the groups.\n"
   ]
  },
  {
   "cell_type": "code",
   "execution_count": 1,
   "metadata": {
    "collapsed": false
   },
   "outputs": [
    {
     "ename": "ERROR",
     "evalue": "Error in rbind(mrnaNorm[bss$ix[1:100], -1], setNames(mrnaClassNum, names(mrnaNorm[, : object 'mrnaNorm' not found\n",
     "output_type": "error",
     "traceback": [
      "Error in rbind(mrnaNorm[bss$ix[1:100], -1], setNames(mrnaClassNum, names(mrnaNorm[, : object 'mrnaNorm' not found\n"
     ]
    },
    {
     "ename": "ERROR",
     "evalue": "Error in eval(expr, envir, enclos): object 'mrnaSetClass' not found\n",
     "output_type": "error",
     "traceback": [
      "Error in eval(expr, envir, enclos): object 'mrnaSetClass' not found\n"
     ]
    },
    {
     "ename": "ERROR",
     "evalue": "Error in t(mrnaSetClass): object 'mrnaSetClass' not found\n",
     "output_type": "error",
     "traceback": [
      "Error in t(mrnaSetClass): object 'mrnaSetClass' not found\n"
     ]
    },
    {
     "ename": "ERROR",
     "evalue": "Error in colnames(transpose)[101] <- \"class\": object 'transpose' not found\n",
     "output_type": "error",
     "traceback": [
      "Error in colnames(transpose)[101] <- \"class\": object 'transpose' not found\n"
     ]
    },
    {
     "ename": "ERROR",
     "evalue": "Error in subset(transpose, transpose$class == 0): object 'transpose' not found\n",
     "output_type": "error",
     "traceback": [
      "Error in subset(transpose, transpose$class == 0): object 'transpose' not found\n"
     ]
    },
    {
     "ename": "ERROR",
     "evalue": "Error in eval(expr, envir, enclos): object 'normals' not found\n",
     "output_type": "error",
     "traceback": [
      "Error in eval(expr, envir, enclos): object 'normals' not found\n"
     ]
    },
    {
     "ename": "ERROR",
     "evalue": "Error in subset(transpose, transpose$class == 1): object 'transpose' not found\n",
     "output_type": "error",
     "traceback": [
      "Error in subset(transpose, transpose$class == 1): object 'transpose' not found\n"
     ]
    },
    {
     "ename": "ERROR",
     "evalue": "Error in eval(expr, envir, enclos): object 'tumors' not found\n",
     "output_type": "error",
     "traceback": [
      "Error in eval(expr, envir, enclos): object 'tumors' not found\n"
     ]
    },
    {
     "ename": "ERROR",
     "evalue": "Error in rbind(normals, tumors[1:112, ]): object 'normals' not found\n",
     "output_type": "error",
     "traceback": [
      "Error in rbind(normals, tumors[1:112, ]): object 'normals' not found\n"
     ]
    },
    {
     "ename": "ERROR",
     "evalue": "Error in eval(expr, envir, enclos): object 'both' not found\n",
     "output_type": "error",
     "traceback": [
      "Error in eval(expr, envir, enclos): object 'both' not found\n"
     ]
    },
    {
     "ename": "ERROR",
     "evalue": "Error in lapply(both$class, color.map): object 'both' not found\n",
     "output_type": "error",
     "traceback": [
      "Error in lapply(both$class, color.map): object 'both' not found\n"
     ]
    },
    {
     "ename": "ERROR",
     "evalue": "Error in t(both): object 'both' not found\n",
     "output_type": "error",
     "traceback": [
      "Error in t(both): object 'both' not found\n"
     ]
    }
   ],
   "source": [
    "# cell #11\n",
    "# merge class values into mrnaNorm as the last row  - after the genes and select only top 100 genes\n",
    "mrnaSetClass <- rbind(mrnaNorm[bss$ix[1:100],-1], setNames(mrnaClassNum, names(mrnaNorm[,-1])))\n",
    "dim(mrnaSetClass)\n",
    "# 101  1212       101 genes as rows and 1212 patients as columns\n",
    "# to select by class, transpose the matrix\n",
    "transpose <- as.data.frame(t(mrnaSetClass))\n",
    "colnames(transpose)[101] <- \"class\"\n",
    "# select normals\n",
    "normals <- subset(transpose, transpose$class == 0)\n",
    "dim(normals)\n",
    "#[1] 112 101\n",
    "# select tumors\n",
    "tumors <- subset(transpose, transpose$class == 1)\n",
    "dim(tumors)\n",
    "#[1] 1100 101\n",
    "# combine them together\n",
    "both <- rbind(normals, tumors[1:112,])\n",
    "dim(both)\n",
    "# select a color scheme - red for tumor and blue for normal\n",
    "color.map <- function(class) { if (class==0) \"#FF0000\" else \"#0000FF\" } # red for tumor and blue for normal\n",
    "# create heatmap\n",
    "groupColors <- unlist(lapply(both$class, color.map))\n",
    "heatmap(as.matrix(t(both)), scale = \"row\", col=topo.colors(100), ColSideColors=groupColors)"
   ]
  },
  {
   "cell_type": "code",
   "execution_count": null,
   "metadata": {
    "collapsed": true
   },
   "outputs": [],
   "source": []
  }
 ],
 "metadata": {
  "anaconda-cloud": {},
  "kernelspec": {
   "display_name": "R",
   "language": "R",
   "name": "ir"
  },
  "language_info": {
   "codemirror_mode": "r",
   "file_extension": ".r",
   "mimetype": "text/x-r-source",
   "name": "R",
   "pygments_lexer": "r",
   "version": "3.2.2"
  }
 },
 "nbformat": 4,
 "nbformat_minor": 0
}
